{
 "cells": [
  {
   "cell_type": "markdown",
   "id": "cc1b58f3",
   "metadata": {},
   "source": [
    "### Basic Syntax"
   ]
  },
  {
   "cell_type": "code",
   "execution_count": 3,
   "id": "f4b6ffae",
   "metadata": {},
   "outputs": [
    {
     "name": "stdout",
     "output_type": "stream",
     "text": [
      "Hello World\n"
     ]
    }
   ],
   "source": [
    "print(\"Hello World\")"
   ]
  },
  {
   "cell_type": "code",
   "execution_count": 5,
   "id": "21f36c13",
   "metadata": {},
   "outputs": [
    {
     "data": {
      "text/plain": [
       "int"
      ]
     },
     "execution_count": 5,
     "metadata": {},
     "output_type": "execute_result"
    }
   ],
   "source": [
    "## Data Types\n",
    "a = 5\n",
    "type(a)"
   ]
  },
  {
   "cell_type": "code",
   "execution_count": 6,
   "id": "84ecd03f",
   "metadata": {},
   "outputs": [
    {
     "data": {
      "text/plain": [
       "str"
      ]
     },
     "execution_count": 6,
     "metadata": {},
     "output_type": "execute_result"
    }
   ],
   "source": [
    "b = 'amit'\n",
    "type(b)"
   ]
  },
  {
   "cell_type": "code",
   "execution_count": 7,
   "id": "cfb71de1",
   "metadata": {},
   "outputs": [
    {
     "data": {
      "text/plain": [
       "float"
      ]
     },
     "execution_count": 7,
     "metadata": {},
     "output_type": "execute_result"
    }
   ],
   "source": [
    "c = 23.5\n",
    "type(c)"
   ]
  },
  {
   "cell_type": "code",
   "execution_count": 8,
   "id": "133fc2fc",
   "metadata": {},
   "outputs": [
    {
     "data": {
      "text/plain": [
       "bool"
      ]
     },
     "execution_count": 8,
     "metadata": {},
     "output_type": "execute_result"
    }
   ],
   "source": [
    "d = True\n",
    "type(d)"
   ]
  },
  {
   "cell_type": "code",
   "execution_count": 9,
   "id": "7865b586",
   "metadata": {},
   "outputs": [
    {
     "data": {
      "text/plain": [
       "complex"
      ]
     },
     "execution_count": 9,
     "metadata": {},
     "output_type": "execute_result"
    }
   ],
   "source": [
    "c = 2 + 3j\n",
    "type(c)"
   ]
  },
  {
   "cell_type": "code",
   "execution_count": 10,
   "id": "4b5e4df3",
   "metadata": {},
   "outputs": [
    {
     "name": "stdout",
     "output_type": "stream",
     "text": [
      "5\n"
     ]
    }
   ],
   "source": [
    "print(a)"
   ]
  },
  {
   "cell_type": "code",
   "execution_count": 11,
   "id": "130a3037",
   "metadata": {},
   "outputs": [
    {
     "name": "stdout",
     "output_type": "stream",
     "text": [
      "10\n"
     ]
    }
   ],
   "source": [
    "a = 10\n",
    "print(a)"
   ]
  },
  {
   "cell_type": "code",
   "execution_count": 15,
   "id": "595a204f",
   "metadata": {},
   "outputs": [
    {
     "name": "stdout",
     "output_type": "stream",
     "text": [
      "my name is Amit and my marks is 97.8\n"
     ]
    }
   ],
   "source": [
    "age = 25\n",
    "name = 'Amit'\n",
    "marks = 97.8\n",
    "\n",
    "print(f\"my name is {name} and my marks is {marks}\")"
   ]
  },
  {
   "cell_type": "code",
   "execution_count": 13,
   "id": "b35de4fe",
   "metadata": {},
   "outputs": [
    {
     "name": "stdout",
     "output_type": "stream",
     "text": [
      "Amit 25 97.8\n"
     ]
    }
   ],
   "source": [
    "print(name,age,marks)"
   ]
  },
  {
   "cell_type": "code",
   "execution_count": 32,
   "id": "12a64fe5",
   "metadata": {},
   "outputs": [
    {
     "name": "stdout",
     "output_type": "stream",
     "text": [
      "Enter your First Marks56\n",
      "Enter Your Second Marks78\n",
      "134\n",
      "67.0\n",
      "Your Total marks is 134 and your Percentage is 67.0 and You passed\n"
     ]
    }
   ],
   "source": [
    "### example\n",
    "## Task 1 \n",
    "sub1 = int(input(\"Enter your First Marks\"))\n",
    "sub2 = input(\"Enter Your Second Marks\")\n",
    "\n",
    "## Task 2 \n",
    "total = sub1 + int(sub2)\n",
    "print(total)\n",
    "\n",
    "## calculate Percentage \n",
    "\n",
    "percatage = (total/200)*100\n",
    "\n",
    "print(percatage)\n",
    "\n",
    "## Third Task\n",
    "\n",
    "if percatage >=80:\n",
    "    print(f\"Your Total marks is {total} and your Percentage is {percatage} and You passed\")\n",
    "else if (50 < percatage <=80):\n",
    "    print('Second')\n",
    "else:\n",
    "    print('Fail')\n"
   ]
  },
  {
   "cell_type": "code",
   "execution_count": 28,
   "id": "b8ea395e",
   "metadata": {},
   "outputs": [
    {
     "data": {
      "text/plain": [
       "int"
      ]
     },
     "execution_count": 28,
     "metadata": {},
     "output_type": "execute_result"
    }
   ],
   "source": [
    "type(sub1)"
   ]
  },
  {
   "cell_type": "code",
   "execution_count": 29,
   "id": "003d6966",
   "metadata": {},
   "outputs": [
    {
     "data": {
      "text/plain": [
       "str"
      ]
     },
     "execution_count": 29,
     "metadata": {},
     "output_type": "execute_result"
    }
   ],
   "source": [
    "type(sub2)"
   ]
  },
  {
   "cell_type": "code",
   "execution_count": 44,
   "id": "1af6ba82",
   "metadata": {},
   "outputs": [
    {
     "name": "stdout",
     "output_type": "stream",
     "text": [
      "Enter Number Of Subject3\n",
      "Enter marks for subject 1:56\n",
      "Enter marks for subject 2:85\n",
      "Enter marks for subject 3:56\n",
      "197\n",
      "65.66666666666666\n"
     ]
    }
   ],
   "source": [
    "numberOfSubj = int(input(\"Enter Number Of Subject\"))\n",
    "\n",
    "total = 0\n",
    "for i in range(1,numberOfSubj+1):\n",
    "#     print(i)\n",
    "    subject_marks = int(input(f'Enter marks for subject {i}:'))\n",
    "    total = total + subject_marks\n",
    "    \n",
    "print(total)\n",
    "\n",
    "## Percentage\n",
    "\n",
    "percatage = (total/(numberOfSubj*100))*100\n",
    "\n",
    "print(percatage)\n",
    "\n",
    "if percatage >=80:\n",
    "    print(f\"Your Total marks is {total} and your Percentage is {percatage} and You passed\")\n",
    "else if (50 < percatage <=80):\n",
    "    print('Second')\n",
    "else:\n",
    "    print('Fail')\n"
   ]
  },
  {
   "cell_type": "code",
   "execution_count": 49,
   "id": "a72c2741",
   "metadata": {},
   "outputs": [],
   "source": [
    "def sum(a,b=10):\n",
    "    print(a+b)"
   ]
  },
  {
   "cell_type": "code",
   "execution_count": 50,
   "id": "e70e7f30",
   "metadata": {},
   "outputs": [
    {
     "name": "stdout",
     "output_type": "stream",
     "text": [
      "15\n"
     ]
    }
   ],
   "source": [
    "sum(5)"
   ]
  },
  {
   "cell_type": "code",
   "execution_count": 59,
   "id": "a2c3308f",
   "metadata": {},
   "outputs": [],
   "source": [
    "def calculate_marks():\n",
    "    numberOfSubj = int(input(\"Enter Number Of Subject\"))\n",
    "\n",
    "    total = 0\n",
    "    for i in range(1,numberOfSubj+1):\n",
    "    #     print(i)\n",
    "        subject_marks = int(input(f'Enter marks for subject {i}:'))\n",
    "        total = total + subject_marks\n",
    "\n",
    "    print(total)\n",
    "\n",
    "    ## Percentage\n",
    "\n",
    "    percatage = (total/(numberOfSubj*100))*100\n",
    "\n",
    "    print(percatage)\n",
    "\n",
    "    if percatage >=80:\n",
    "        print(f\"Your Total marks is {total} and your Percentage is {percatage} and You passed\")\n",
    "    else:\n",
    "        print('Fail')\n",
    "\n"
   ]
  },
  {
   "cell_type": "code",
   "execution_count": null,
   "id": "c3be4277",
   "metadata": {},
   "outputs": [],
   "source": []
  },
  {
   "cell_type": "code",
   "execution_count": 61,
   "id": "0b0de493",
   "metadata": {},
   "outputs": [],
   "source": [
    "### \n",
    "\n",
    "def add(a,b):\n",
    "    print(a+b)\n",
    "    \n",
    "def sub(a,b):\n",
    "    return a-b"
   ]
  },
  {
   "cell_type": "code",
   "execution_count": 65,
   "id": "e18b8568",
   "metadata": {},
   "outputs": [
    {
     "name": "stdout",
     "output_type": "stream",
     "text": [
      "11\n"
     ]
    },
    {
     "ename": "TypeError",
     "evalue": "unsupported operand type(s) for +: 'int' and 'NoneType'",
     "output_type": "error",
     "traceback": [
      "\u001b[1;31m---------------------------------------------------------------------------\u001b[0m",
      "\u001b[1;31mTypeError\u001b[0m                                 Traceback (most recent call last)",
      "Input \u001b[1;32mIn [65]\u001b[0m, in \u001b[0;36m<cell line: 3>\u001b[1;34m()\u001b[0m\n\u001b[0;32m      1\u001b[0m c \u001b[38;5;241m=\u001b[39m \u001b[38;5;241m25\u001b[39m\n\u001b[0;32m      2\u001b[0m value \u001b[38;5;241m=\u001b[39m add(\u001b[38;5;241m5\u001b[39m,\u001b[38;5;241m6\u001b[39m)\n\u001b[1;32m----> 3\u001b[0m \u001b[38;5;28mprint\u001b[39m(\u001b[43mc\u001b[49m\u001b[43m \u001b[49m\u001b[38;5;241;43m+\u001b[39;49m\u001b[43m \u001b[49m\u001b[43mvalue\u001b[49m)\n",
      "\u001b[1;31mTypeError\u001b[0m: unsupported operand type(s) for +: 'int' and 'NoneType'"
     ]
    }
   ],
   "source": [
    "c = 25\n",
    "value = add(5,6)\n",
    "print(c + value)"
   ]
  },
  {
   "cell_type": "code",
   "execution_count": 64,
   "id": "7ef65f89",
   "metadata": {},
   "outputs": [
    {
     "name": "stdout",
     "output_type": "stream",
     "text": [
      "6\n",
      "31\n"
     ]
    }
   ],
   "source": [
    "value = sub(11,5)\n",
    "print(value)\n",
    "print(c + value)"
   ]
  },
  {
   "cell_type": "code",
   "execution_count": 60,
   "id": "88a2a97c",
   "metadata": {},
   "outputs": [
    {
     "name": "stdout",
     "output_type": "stream",
     "text": [
      "Enter Number Of Subject5\n",
      "Enter marks for subject 1:56\n",
      "Enter marks for subject 2:89\n",
      "Enter marks for subject 3:78\n",
      "Enter marks for subject 4:45\n",
      "Enter marks for subject 5:78\n",
      "346\n",
      "69.19999999999999\n",
      "Fail\n"
     ]
    }
   ],
   "source": [
    "calculate_marks()"
   ]
  },
  {
   "cell_type": "code",
   "execution_count": null,
   "id": "5d5d6954",
   "metadata": {},
   "outputs": [],
   "source": [
    "str1 = 'Amit'\n",
    "output = 'timA'"
   ]
  },
  {
   "cell_type": "code",
   "execution_count": 66,
   "id": "f66214e6",
   "metadata": {},
   "outputs": [
    {
     "name": "stdout",
     "output_type": "stream",
     "text": [
      "A\n",
      "m\n",
      "i\n",
      "t\n"
     ]
    }
   ],
   "source": [
    "string = 'Amit'\n",
    "for i in string:\n",
    "    print(i)"
   ]
  },
  {
   "cell_type": "code",
   "execution_count": 1,
   "id": "c1a2c78f",
   "metadata": {},
   "outputs": [
    {
     "name": "stdout",
     "output_type": "stream",
     "text": [
      "abc\n",
      "edc\n"
     ]
    }
   ],
   "source": [
    "list1 = ['abc','edc']\n",
    "for name in list1:\n",
    "    print(name)"
   ]
  },
  {
   "cell_type": "code",
   "execution_count": 2,
   "id": "576fd3a0",
   "metadata": {},
   "outputs": [
    {
     "name": "stdout",
     "output_type": "stream",
     "text": [
      "1\n",
      "2\n",
      "3\n",
      "4\n",
      "5\n"
     ]
    }
   ],
   "source": [
    "for number in range(1,6):\n",
    "    print(number)"
   ]
  },
  {
   "cell_type": "code",
   "execution_count": null,
   "id": "6d7bbdd5",
   "metadata": {},
   "outputs": [],
   "source": []
  },
  {
   "cell_type": "code",
   "execution_count": null,
   "id": "028d1b58",
   "metadata": {},
   "outputs": [],
   "source": []
  },
  {
   "cell_type": "code",
   "execution_count": null,
   "id": "0ae72a74",
   "metadata": {},
   "outputs": [],
   "source": []
  },
  {
   "cell_type": "code",
   "execution_count": null,
   "id": "9dd039c1",
   "metadata": {},
   "outputs": [],
   "source": []
  },
  {
   "cell_type": "code",
   "execution_count": null,
   "id": "559b72dc",
   "metadata": {},
   "outputs": [],
   "source": []
  }
 ],
 "metadata": {
  "kernelspec": {
   "display_name": "Python 3 (ipykernel)",
   "language": "python",
   "name": "python3"
  },
  "language_info": {
   "codemirror_mode": {
    "name": "ipython",
    "version": 3
   },
   "file_extension": ".py",
   "mimetype": "text/x-python",
   "name": "python",
   "nbconvert_exporter": "python",
   "pygments_lexer": "ipython3",
   "version": "3.9.12"
  }
 },
 "nbformat": 4,
 "nbformat_minor": 5
}
