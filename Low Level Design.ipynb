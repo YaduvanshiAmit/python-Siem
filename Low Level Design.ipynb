{
 "cells": [
  {
   "cell_type": "markdown",
   "id": "684f0ae8",
   "metadata": {},
   "source": [
    "Design a class Rectangle with attributes length and width and methods to calculate its area and perimeter."
   ]
  },
  {
   "cell_type": "code",
   "execution_count": 2,
   "id": "34abfa3f",
   "metadata": {},
   "outputs": [],
   "source": [
    "class Rectangle:\n",
    "    def __init__(self,length,width):\n",
    "        self.length = length\n",
    "        self.width = width\n",
    "        \n",
    "    def area(self):\n",
    "        return self.length * self.width\n",
    "    def perimeter(self):\n",
    "        return 2*(self.length + self.width)"
   ]
  },
  {
   "cell_type": "code",
   "execution_count": 3,
   "id": "35963356",
   "metadata": {},
   "outputs": [],
   "source": [
    "rect = Rectangle(2,4)"
   ]
  },
  {
   "cell_type": "code",
   "execution_count": 5,
   "id": "1016cf0b",
   "metadata": {},
   "outputs": [
    {
     "data": {
      "text/plain": [
       "8"
      ]
     },
     "execution_count": 5,
     "metadata": {},
     "output_type": "execute_result"
    }
   ],
   "source": [
    "rect.area()"
   ]
  },
  {
   "cell_type": "code",
   "execution_count": 6,
   "id": "017cd072",
   "metadata": {},
   "outputs": [
    {
     "data": {
      "text/plain": [
       "12"
      ]
     },
     "execution_count": 6,
     "metadata": {},
     "output_type": "execute_result"
    }
   ],
   "source": [
    "rect.perimeter()"
   ]
  },
  {
   "cell_type": "markdown",
   "id": "675f4b7e",
   "metadata": {},
   "source": [
    "Design a Python class Calculator with methods for addition, subtraction, multiplication, and division."
   ]
  },
  {
   "cell_type": "code",
   "execution_count": 16,
   "id": "e0523b95",
   "metadata": {},
   "outputs": [],
   "source": [
    "class Calculator:\n",
    "    \n",
    "    def add(a,b):\n",
    "        return a+b\n",
    "    def subtract(a,b):\n",
    "        return a-b\n",
    "    \n",
    "        "
   ]
  },
  {
   "cell_type": "code",
   "execution_count": 20,
   "id": "f3ce54ae",
   "metadata": {},
   "outputs": [],
   "source": [
    "calculator = Calculator\n",
    "calculator2 = Calculator"
   ]
  },
  {
   "cell_type": "code",
   "execution_count": 18,
   "id": "e28408f0",
   "metadata": {},
   "outputs": [
    {
     "data": {
      "text/plain": [
       "5"
      ]
     },
     "execution_count": 18,
     "metadata": {},
     "output_type": "execute_result"
    }
   ],
   "source": [
    "calculator.add(2,3)"
   ]
  },
  {
   "cell_type": "code",
   "execution_count": 19,
   "id": "6421f640",
   "metadata": {},
   "outputs": [
    {
     "data": {
      "text/plain": [
       "1"
      ]
     },
     "execution_count": 19,
     "metadata": {},
     "output_type": "execute_result"
    }
   ],
   "source": [
    "calculator.subtract(3,2)"
   ]
  },
  {
   "cell_type": "code",
   "execution_count": 21,
   "id": "7f1fde12",
   "metadata": {},
   "outputs": [
    {
     "data": {
      "text/plain": [
       "5"
      ]
     },
     "execution_count": 21,
     "metadata": {},
     "output_type": "execute_result"
    }
   ],
   "source": [
    "calculator2.add(2,3)"
   ]
  },
  {
   "cell_type": "code",
   "execution_count": 23,
   "id": "88235579",
   "metadata": {},
   "outputs": [],
   "source": [
    "class Listss:\n",
    "    def __init__(self,list1):\n",
    "        self.list1 = list1\n",
    "        \n",
    "    def printlist(self):\n",
    "        print(self.list1)"
   ]
  },
  {
   "cell_type": "code",
   "execution_count": 24,
   "id": "8604aadf",
   "metadata": {},
   "outputs": [
    {
     "name": "stdout",
     "output_type": "stream",
     "text": [
      "[1, 2, 3, 4]\n"
     ]
    }
   ],
   "source": [
    "li = Listss([1,2,3,4])\n",
    "li.printlist()"
   ]
  },
  {
   "cell_type": "code",
   "execution_count": 30,
   "id": "7810d006",
   "metadata": {},
   "outputs": [
    {
     "name": "stdout",
     "output_type": "stream",
     "text": [
      "2\n",
      "3\n",
      "4\n",
      "5\n",
      "8\n"
     ]
    },
    {
     "data": {
      "text/plain": [
       "22"
      ]
     },
     "execution_count": 30,
     "metadata": {},
     "output_type": "execute_result"
    }
   ],
   "source": [
    "class Calculator:\n",
    "    \n",
    "    def add(*args):\n",
    "        result = 0\n",
    "        for num in args:\n",
    "            print(num)\n",
    "            result += num\n",
    "        return result\n",
    "claculator = Calculator\n",
    "claculator.add(2,3,4,5,8)"
   ]
  },
  {
   "cell_type": "markdown",
   "id": "83c09833",
   "metadata": {},
   "source": [
    "Design a class BankAccount with methods for deposit, withdrawal, and checking the balance. Ensure that the account balance cannot go below zero."
   ]
  },
  {
   "cell_type": "code",
   "execution_count": 49,
   "id": "8adfeebd",
   "metadata": {},
   "outputs": [
    {
     "name": "stdout",
     "output_type": "stream",
     "text": [
      "500\n",
      "475\n",
      "475\n"
     ]
    }
   ],
   "source": [
    "## Nisith\n",
    "class BankAccount:\n",
    "    balance = 500\n",
    "#     def _init_(self):\n",
    "#         self.balance=500\n",
    "    \n",
    "    def deposit(self,amount):\n",
    "#         print(type(self.balance))\n",
    "#         print(self.balance+amount)\n",
    "        self.balance += amount\n",
    "    \n",
    "    def withdraw(self,amount):\n",
    "        print(self.balance-amount)\n",
    "        self.balance -= amount\n",
    "        \n",
    "    def checkbalance(self):\n",
    "        print(self.balance)\n",
    "        \n",
    "sbi=BankAccount()\n",
    "print(sbi.balance)\n",
    "sbi.deposit(25)\n",
    "sbi.withdraw(50)\n",
    "sbi.checkbalance()\n",
    "        "
   ]
  },
  {
   "cell_type": "code",
   "execution_count": 64,
   "id": "2f4ca26b",
   "metadata": {},
   "outputs": [
    {
     "name": "stdout",
     "output_type": "stream",
     "text": [
      "0\n",
      "Enter the amount:- 1000\n",
      "1000\n",
      "Enter amount to withdraw:- 495\n",
      "1000\n",
      "505 is the amount\n",
      "Remaining balance = 505\n"
     ]
    }
   ],
   "source": [
    "### Gourav\n",
    "class BankAccount:\n",
    "    def __init__(self,balance=0):\n",
    "        self.balance = balance\n",
    "        \n",
    "    def deposit(self):\n",
    "        a = int(input('Enter the amount:- '))\n",
    "        self.balance += a\n",
    "        print(self.balance)\n",
    "#         return self.balance\n",
    "\n",
    "    def withdraw(self):\n",
    "        b = int(input('Enter amount to withdraw:- '))\n",
    "        print(self.balance)\n",
    "        withdraw_amount = self.balance - b\n",
    "        print(f'{withdraw_amount} is the amount')\n",
    "        self.balance = withdraw_amount\n",
    "        print(f'Remaining balance = {self.balance}')\n",
    "        \n",
    "# BankAccount().deposit()\n",
    "# BankAccount().withdraw()\n",
    "\n",
    "sbi=BankAccount()\n",
    "print(sbi.balance)\n",
    "\n",
    "sbi.deposit()\n",
    "sbi.withdraw()"
   ]
  },
  {
   "cell_type": "code",
   "execution_count": 77,
   "id": "60efc107",
   "metadata": {},
   "outputs": [
    {
     "name": "stdout",
     "output_type": "stream",
     "text": [
      "0\n",
      "Deposited 25.New balance:25\n",
      "Please Check The Balance\n",
      "Account balance:25\n"
     ]
    }
   ],
   "source": [
    "## payel\n",
    "\n",
    "class BankAccount:\n",
    "    def __init__(self,initial_balance=0):\n",
    "        self.balance=initial_balance\n",
    "\n",
    "    def deposit(self, amount):\n",
    "        self.balance +=amount\n",
    "        print(f\"Deposited {amount}.New balance:{self.balance}\")\n",
    "\n",
    "    def withdraw(self,amount):\n",
    "        if self.balance >= amount:\n",
    "            self.balance -= amount\n",
    "            print(f\"withdraw{amount}. New balance:{self.balance}\")\n",
    "        else:\n",
    "            print(\"Please Check The Balance\")\n",
    "\n",
    "    def check_balance(self):\n",
    "        print(f\"Account balance:{self.balance}\")\n",
    "        \n",
    "sbi=BankAccount()\n",
    "print(sbi.balance)\n",
    "sbi.deposit(25)\n",
    "sbi.withdraw(50)\n",
    "sbi.check_balance()"
   ]
  },
  {
   "cell_type": "code",
   "execution_count": null,
   "id": "78ac93e8",
   "metadata": {},
   "outputs": [],
   "source": [
    "## Poulomi\n",
    "\n",
    "class BankAccount:\n",
    "    def __init__(self,balance):\n",
    "    self.balance = balance\n",
    "\n",
    "    def deposite(self,amount):\n",
    "        if amount>0:\n",
    "            self.balance += amount\n",
    "            return f\" your deposited {self.balance}\"\n",
    "        else:\n",
    "             retrun \"invaild deposite amount\"\n",
    "\n",
    "##def withdrawal(self.amount):\n",
    "    ##if amount >10:\n",
    "        \n"
   ]
  },
  {
   "cell_type": "code",
   "execution_count": 24,
   "id": "ca9f3a93",
   "metadata": {},
   "outputs": [
    {
     "name": "stdout",
     "output_type": "stream",
     "text": [
      " your deposited 100.current balance:100\n",
      "withdrew50.current balance:50\n",
      " current balance:50\n",
      "PLease Enter A Valid Amount\n",
      "None\n"
     ]
    }
   ],
   "source": [
    "class BankAccount:\n",
    "    def __init__(self,balance):\n",
    "        self.balance = balance\n",
    "\n",
    "    def deposite(self,amount):     \n",
    "        if amount>0:\n",
    "            self.balance += amount\n",
    "            return (f\" your deposited {amount}.current balance:{self.balance}\")\n",
    "        else:\n",
    "            print('PLease Enter A Valid Amount')\n",
    "        \n",
    "#        \n",
    "\n",
    "    def withdraw(self, amount):\n",
    "        if amount>0:\n",
    "            if self.balance >= amount:\n",
    "                self.balance -= amount\n",
    "                return(f\"withdrew{amount}.current balance:{self.balance}\")\n",
    "            else:\n",
    "                print('PLease Enter A Valid Amount')\n",
    "        else:\n",
    "            print('PLease Enter A Valid Amount')\n",
    "        \n",
    "\n",
    "    def check_balance(self):\n",
    "        return (f\" current balance:{self.balance}\")\n",
    "\n",
    "account = BankAccount(0)\n",
    "print(account.deposite(100))\n",
    "print(account.withdraw(50))\n",
    "print(account.check_balance())\n",
    "print(account.withdraw(70))"
   ]
  },
  {
   "cell_type": "code",
   "execution_count": null,
   "id": "0da70076",
   "metadata": {},
   "outputs": [],
   "source": []
  },
  {
   "cell_type": "markdown",
   "id": "312fd7fd",
   "metadata": {},
   "source": [
    "#### Design a Python class Bank that models a simple bank. It should have methods for creating accounts, depositing and withdrawing money, and checking the balance."
   ]
  },
  {
   "cell_type": "markdown",
   "id": "d2cd753a",
   "metadata": {},
   "source": [
    "### Design a Python class Inventory to manage a store's inventory. Implement methods to add products, remove products, and check product availability."
   ]
  },
  {
   "cell_type": "code",
   "execution_count": 58,
   "id": "c4fb76d2",
   "metadata": {},
   "outputs": [
    {
     "name": "stdout",
     "output_type": "stream",
     "text": [
      "abdebubeunf\n",
      "Gissssssi\n",
      "{'Shampoo_bottle': 10, 'Conditionar_bottle': 15, 'Babywash_gel': 40}\n"
     ]
    }
   ],
   "source": [
    "### Design Python class Inventory to manage a store's inventory. Implement methods to add products, remove products, and check product availability.\n",
    "\n",
    "class Inventory:\n",
    "    def __init__(self):\n",
    "        self.products= {} \n",
    "\n",
    "    def add_product(self,product_name,quantity):\n",
    "        if product_name in self.products: \n",
    "            self.products[product_name] += quantity\n",
    "\n",
    "        else:\n",
    "            self.products[product_name]=quantity\n",
    "\n",
    "    def remove_product(self,product_name,quantity):\n",
    "        print('abdebubeunf')\n",
    "        if product_name in self.products and quantity >0 and quantity <= self.products[product_name]: \n",
    "            print('Gissssssi')\n",
    "            self.products[product_name] -= quantity\n",
    "            \n",
    "\n",
    "    def check_product_availability(self,product_name):\n",
    "         return self.products.get(product_name,0)\n",
    "\n",
    "store_Inventory=Inventory()\n",
    "\n",
    "store_Inventory.add_product(\"Shampoo_bottle\", 20)\n",
    "\n",
    "store_Inventory.add_product(\"Conditionar_bottle\",15)\n",
    "store_Inventory.add_product(\"Babywash_gel\",40)\n",
    "\n",
    "store_Inventory.remove_product(\"Shampoo_bottle\", 10)\n",
    "\n",
    "# print(store_Inventory.check_product_availability('Conditionar_bottle'))\n",
    "print(store_Inventory.products)\n",
    "\n",
    "# print(\"available Shampoo_bottle:\",strore_inventorty.check_product_availability(\"Shampoo_bottle\"))\n",
    "\n",
    "# store_inventory.remove_product(\"Conditionar_bottle\",5)\n",
    "# print(\"available Conditionar_bottle:\",store_inventory.check_product_availability(\"Conditionar_bottle\"))"
   ]
  },
  {
   "cell_type": "code",
   "execution_count": 52,
   "id": "5357ac72",
   "metadata": {},
   "outputs": [
    {
     "data": {
      "text/plain": [
       "50"
      ]
     },
     "execution_count": 52,
     "metadata": {},
     "output_type": "execute_result"
    }
   ],
   "source": [
    "pro = {'Shampoo_bottle': 50, 'Conditionar_bottle': 15, 'Babywash_gel': 40}\n",
    "# pro.get('Shampoo_bottle')\n",
    "pro['Shampoo_bottle']"
   ]
  },
  {
   "cell_type": "code",
   "execution_count": 62,
   "id": "63682ff9",
   "metadata": {},
   "outputs": [
    {
     "ename": "AttributeError",
     "evalue": "'Inventory' object has no attribute 'products'",
     "output_type": "error",
     "traceback": [
      "\u001b[1;31m---------------------------------------------------------------------------\u001b[0m",
      "\u001b[1;31mAttributeError\u001b[0m                            Traceback (most recent call last)",
      "Input \u001b[1;32mIn [62]\u001b[0m, in \u001b[0;36m<cell line: 20>\u001b[1;34m()\u001b[0m\n\u001b[0;32m     16\u001b[0m         \u001b[38;5;28mprint\u001b[39m(\u001b[38;5;124mf\u001b[39m\u001b[38;5;124m\"\u001b[39m\u001b[38;5;124m'\u001b[39m\u001b[38;5;132;01m{\u001b[39;00mproduct_name\u001b[38;5;132;01m}\u001b[39;00m\u001b[38;5;124m'\u001b[39m\u001b[38;5;124m \u001b[39m\u001b[38;5;124m'\u001b[39m\u001b[38;5;132;01m{\u001b[39;00mproduct_id\u001b[38;5;132;01m}\u001b[39;00m\u001b[38;5;124m'\u001b[39m\u001b[38;5;124m is available\u001b[39m\u001b[38;5;124m\"\u001b[39m)\n\u001b[0;32m     18\u001b[0m store_Inventory\u001b[38;5;241m=\u001b[39mInventory()\n\u001b[1;32m---> 20\u001b[0m \u001b[43mstore_Inventory\u001b[49m\u001b[38;5;241;43m.\u001b[39;49m\u001b[43madd_product\u001b[49m\u001b[43m(\u001b[49m\u001b[38;5;241;43m1\u001b[39;49m\u001b[43m,\u001b[49m\u001b[38;5;124;43m\"\u001b[39;49m\u001b[38;5;124;43mShampoo_bottle\u001b[39;49m\u001b[38;5;124;43m\"\u001b[39;49m\u001b[43m,\u001b[49m\u001b[43m \u001b[49m\u001b[38;5;241;43m20\u001b[39;49m\u001b[43m)\u001b[49m\n\u001b[0;32m     21\u001b[0m \u001b[38;5;28mprint\u001b[39m(store_Inventory\u001b[38;5;241m.\u001b[39mproducts)\n",
      "Input \u001b[1;32mIn [62]\u001b[0m, in \u001b[0;36mInventory.add_product\u001b[1;34m(self, product_id, product_name, price)\u001b[0m\n\u001b[0;32m      5\u001b[0m \u001b[38;5;28;01mdef\u001b[39;00m \u001b[38;5;21madd_product\u001b[39m(\u001b[38;5;28mself\u001b[39m, product_id, product_name, price):\n\u001b[1;32m----> 6\u001b[0m     product\u001b[38;5;241m=\u001b[39m\u001b[38;5;28;43mself\u001b[39;49m\u001b[38;5;241;43m.\u001b[39;49m\u001b[43mproducts\u001b[49m(product_id, product_name,price)\n\u001b[0;32m      7\u001b[0m     \u001b[38;5;28mself\u001b[39m\u001b[38;5;241m.\u001b[39mproducts[product_id]\u001b[38;5;241m=\u001b[39mproduct\n\u001b[0;32m      8\u001b[0m     \u001b[38;5;28mprint\u001b[39m(\u001b[38;5;124mf\u001b[39m\u001b[38;5;124m\"\u001b[39m\u001b[38;5;124mAdded product\u001b[39m\u001b[38;5;124m'\u001b[39m\u001b[38;5;132;01m{\u001b[39;00mname\u001b[38;5;132;01m}\u001b[39;00m\u001b[38;5;124m'\u001b[39m\u001b[38;5;124m \u001b[39m\u001b[38;5;124m'\u001b[39m\u001b[38;5;132;01m{\u001b[39;00mproduct_id\u001b[38;5;132;01m}\u001b[39;00m\u001b[38;5;124m'\u001b[39m\u001b[38;5;124m \u001b[39m\u001b[38;5;124m'\u001b[39m\u001b[38;5;132;01m{\u001b[39;00mprice\u001b[38;5;132;01m}\u001b[39;00m\u001b[38;5;124m'\u001b[39m\u001b[38;5;124m to the inventory\u001b[39m\u001b[38;5;124m\"\u001b[39m)\n",
      "\u001b[1;31mAttributeError\u001b[0m: 'Inventory' object has no attribute 'products'"
     ]
    }
   ],
   "source": [
    "class Bank:\n",
    "    def _init_(self):\n",
    "        self.account={}\n",
    "\n",
    "    def create_account(self,account_number, initial_balance=0):\n",
    "        new_account= BankAccount(account_number,initial_balance)\n",
    "        self.accounts[account_number]=new_account\n",
    "        print(f\"Account{account_number}:{new_account}\")\n",
    "\n",
    "class  BankAccount:\n",
    "    def _init_(self,initial_balance=0):\n",
    "        self.account_number=account_number\n",
    "        self.balance=initial_balance\n",
    "\n",
    "    def deposit(self, amount):\n",
    "        self.balance +=amount\n",
    "        print(f\"Deposited {amount}.New balance:{self.balance}\")\n",
    "\n",
    "    def withdraw(self,amount):\n",
    "        self.balance -= amount\n",
    "        print(f\"withdraw{amount}. New balance:{self.balance}\")\n",
    "\n",
    "    def check_balance(self):\n",
    "        print(f\"Account balance:{self.balance}\")"
   ]
  },
  {
   "cell_type": "code",
   "execution_count": 63,
   "id": "2ce98b1f",
   "metadata": {},
   "outputs": [
    {
     "name": "stdout",
     "output_type": "stream",
     "text": [
      "1. Creat a account\n",
      "2. Deposit in your account\n",
      "3. Withdraw amount from savings\n",
      "4. Check Balance\n",
      "5. Exit\n",
      "Enter your Choice(1,2,3,4,5) = 1\n",
      "Enter your pin:- 1\n",
      "Name of Account holder:- amit\n",
      "Bank name:- sbi\n",
      "Enter amount to deposit:- 20\n",
      "You have successfully created your bank account. Congrats.\n",
      "1. Creat a account\n",
      "2. Deposit in your account\n",
      "3. Withdraw amount from savings\n",
      "4. Check Balance\n",
      "5. Exit\n",
      "Enter your Choice(1,2,3,4,5) = 4\n",
      "Enter your pin:- 1\n",
      "Balance for PIN 1 = Rs. 20\n",
      "1. Creat a account\n",
      "2. Deposit in your account\n",
      "3. Withdraw amount from savings\n",
      "4. Check Balance\n",
      "5. Exit\n",
      "Enter your Choice(1,2,3,4,5) = 3\n",
      "Enter your pin:- 1\n",
      "Enter amount to withdraw:- 10\n",
      "You current balance= Rs. 10\n",
      "1. Creat a account\n",
      "2. Deposit in your account\n",
      "3. Withdraw amount from savings\n",
      "4. Check Balance\n",
      "5. Exit\n",
      "Enter your Choice(1,2,3,4,5) = 5\n",
      "{1: {'name': 'amit', 'Bank_name': 'sbi', 'Balance': 10}}\n"
     ]
    }
   ],
   "source": [
    "## Design a Python class Bank that models a simple bank. \n",
    "#  It should have methods for creating accounts, depositing and withdrawing money, and checking the balance.\n",
    "\n",
    "class BankAccount:\n",
    "    Bank_account = {}\n",
    "    def create_account(self,PIN_no):\n",
    "        name = input('Name of Account holder:- ')\n",
    "        self.name = name\n",
    "        \n",
    "        bank_name= input('Bank name:- ')\n",
    "        self.bank_name = bank_name\n",
    "        \n",
    "        amount = int(input('Enter amount to deposit:- '))\n",
    "        self.balance = amount\n",
    "        \n",
    "        if PIN_no not in self.Bank_account:\n",
    "            print('You have successfully created your bank account. Congrats.')\n",
    "            self.Bank_account[PIN_no] = {'name':self.name,\n",
    "                                    'Bank_name':self.bank_name,\n",
    "                                    'Balance':self.balance}\n",
    "        else:\n",
    "            print('Account with this PIN_no aleardy exist')\n",
    "    \n",
    "    def deposit(self,PIN_no):\n",
    "        if PIN_no in self.Bank_account:\n",
    "            a = int(input('Amount to be deposited:- '))\n",
    "            self.Bank_account[PIN_no]['Balance'] += a\n",
    "            update_balance = self.Bank_account[PIN_no]['Balance']\n",
    "            print(f'Updated Balance = Rs. {update_balance}')\n",
    "        else:\n",
    "            print('Account with this PIN do not exist')\n",
    "\n",
    "    def withdraw(self,PIN_no):\n",
    "        if PIN_no in self.Bank_account:\n",
    "            b = int(input('Enter amount to withdraw:- '))\n",
    "            if b > self.Bank_account[PIN_no]['Balance']:\n",
    "                print(f'You do not have sufficient balance.')\n",
    "            else:\n",
    "                self.Bank_account[PIN_no]['Balance'] -= b\n",
    "                update_balance = self.Bank_account[PIN_no]['Balance']\n",
    "                print(f'You current balance= Rs. {update_balance}')\n",
    "        else:\n",
    "            print('Account with this PIN do not exist')\n",
    "    \n",
    "    def check_balance(self,PIN_no):\n",
    "        if PIN_no in self.Bank_account:\n",
    "            balance=self.Bank_account[PIN_no]['Balance']\n",
    "            print(f'Balance for PIN {PIN_no} = Rs. {balance}')\n",
    "        else:\n",
    "            print(f'Account with PIN {PIN_no} does not exist.')\n",
    "    \n",
    "    def Bank_account_dict(self):\n",
    "        print(self.Bank_account)\n",
    "        \n",
    "\n",
    "account = BankAccount()\n",
    "\n",
    "while True: \n",
    "    print('1. Creat a account')\n",
    "    print('2. Deposit in your account')\n",
    "    print('3. Withdraw amount from savings')\n",
    "    print('4. Check Balance')\n",
    "    print('5. Exit')\n",
    "    \n",
    "    choice = int(input('Enter your Choice(1,2,3,4,5) = '))\n",
    "    if choice==1:\n",
    "        PIN_no = int(input('Enter your pin:- '))\n",
    "        account.create_account(PIN_no)\n",
    "    elif choice==2:\n",
    "        PIN_no = int(input('Enter your pin:- '))\n",
    "        account.deposit(PIN_no)\n",
    "    elif choice==3:\n",
    "        PIN_no = int(input('Enter your pin:- '))\n",
    "        account.withdraw(PIN_no)\n",
    "    elif choice==4:\n",
    "        PIN_no = int(input('Enter your pin:- '))\n",
    "        account.check_balance(PIN_no)\n",
    "    elif choice==5:\n",
    "        break\n",
    "    else:\n",
    "        print('Enter valid choice.')\n",
    "        \n",
    "account.Bank_account_dict()"
   ]
  },
  {
   "cell_type": "code",
   "execution_count": null,
   "id": "41838155",
   "metadata": {},
   "outputs": [],
   "source": []
  }
 ],
 "metadata": {
  "kernelspec": {
   "display_name": "Python 3 (ipykernel)",
   "language": "python",
   "name": "python3"
  },
  "language_info": {
   "codemirror_mode": {
    "name": "ipython",
    "version": 3
   },
   "file_extension": ".py",
   "mimetype": "text/x-python",
   "name": "python",
   "nbconvert_exporter": "python",
   "pygments_lexer": "ipython3",
   "version": "3.9.12"
  }
 },
 "nbformat": 4,
 "nbformat_minor": 5
}
