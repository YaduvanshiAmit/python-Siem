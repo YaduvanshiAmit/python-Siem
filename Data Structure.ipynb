{
 "cells": [
  {
   "cell_type": "markdown",
   "id": "9ba3df12",
   "metadata": {},
   "source": [
    "## Data Structures"
   ]
  },
  {
   "cell_type": "markdown",
   "id": "b4cc6a49",
   "metadata": {},
   "source": [
    "## Lists\n",
    "\n",
    "Lists are Ordered collection of element that can hold items of different data types.\n",
    "\n",
    "Lists are Mutable,Meaning their elements can be changed after creation."
   ]
  },
  {
   "cell_type": "code",
   "execution_count": null,
   "id": "0dcaf3ab",
   "metadata": {},
   "outputs": [],
   "source": [
    "Fruits = ['apple','mango',1,2,True,5.6]\n",
    "type(Fruits)"
   ]
  },
  {
   "cell_type": "code",
   "execution_count": null,
   "id": "275c4005",
   "metadata": {},
   "outputs": [],
   "source": [
    "Fruits[5]"
   ]
  },
  {
   "cell_type": "code",
   "execution_count": null,
   "id": "0eaa40ad",
   "metadata": {},
   "outputs": [],
   "source": [
    "Fruits[1:5]"
   ]
  },
  {
   "cell_type": "code",
   "execution_count": null,
   "id": "43db47f8",
   "metadata": {},
   "outputs": [],
   "source": [
    "len(Fruits)"
   ]
  },
  {
   "cell_type": "code",
   "execution_count": null,
   "id": "95b437fe",
   "metadata": {},
   "outputs": [],
   "source": [
    "number = [1,2,3,4,5,6,7,8,9,20]\n",
    "number[0:10:1]"
   ]
  },
  {
   "cell_type": "code",
   "execution_count": null,
   "id": "50648f7e",
   "metadata": {},
   "outputs": [],
   "source": [
    "Fruits"
   ]
  },
  {
   "cell_type": "code",
   "execution_count": null,
   "id": "cde891ed",
   "metadata": {},
   "outputs": [],
   "source": [
    "Fruits[1] = 'orange'\n",
    "Fruits"
   ]
  },
  {
   "cell_type": "code",
   "execution_count": null,
   "id": "99e25fdf",
   "metadata": {},
   "outputs": [],
   "source": [
    "Fruits.append('grapes')\n",
    "Fruits"
   ]
  },
  {
   "cell_type": "code",
   "execution_count": null,
   "id": "7e0da673",
   "metadata": {},
   "outputs": [],
   "source": [
    "Fruits.insert(2,'Banana')\n",
    "Fruits"
   ]
  },
  {
   "cell_type": "code",
   "execution_count": null,
   "id": "a981c366",
   "metadata": {},
   "outputs": [],
   "source": [
    "##\n",
    "Fruits.extend(['mango','sugarcane'])\n",
    "Fruits"
   ]
  },
  {
   "cell_type": "code",
   "execution_count": null,
   "id": "4ac54a73",
   "metadata": {},
   "outputs": [],
   "source": [
    "Fruits.pop(3)\n",
    "Fruits"
   ]
  },
  {
   "cell_type": "code",
   "execution_count": null,
   "id": "241ff1eb",
   "metadata": {},
   "outputs": [],
   "source": [
    "Fruits.remove(5.6)\n",
    "Fruits"
   ]
  },
  {
   "cell_type": "code",
   "execution_count": null,
   "id": "0202614b",
   "metadata": {},
   "outputs": [],
   "source": [
    "Fruits[::-1]"
   ]
  },
  {
   "cell_type": "code",
   "execution_count": null,
   "id": "c02c2549",
   "metadata": {},
   "outputs": [],
   "source": [
    "Fruits.count('mango')"
   ]
  },
  {
   "cell_type": "code",
   "execution_count": null,
   "id": "8a49f76b",
   "metadata": {},
   "outputs": [],
   "source": [
    "for i in Fruits:\n",
    "    print(i)"
   ]
  },
  {
   "cell_type": "code",
   "execution_count": null,
   "id": "f3bd4fef",
   "metadata": {},
   "outputs": [],
   "source": [
    "for i in range(len(Fruits)):\n",
    "    print(i)"
   ]
  },
  {
   "cell_type": "code",
   "execution_count": null,
   "id": "9888adb7",
   "metadata": {},
   "outputs": [],
   "source": [
    "list1 = [1,None,2,3,None,4,5]\n",
    "\n",
    "for i,name in enumerate(list1):\n",
    "    print(i)\n",
    "    if i%2 ==0:\n",
    "        if name == None:\n",
    "            list1.pop(i)\n",
    "    else:\n",
    "        pass\n",
    "list1"
   ]
  },
  {
   "cell_type": "code",
   "execution_count": null,
   "id": "64afd070",
   "metadata": {},
   "outputs": [],
   "source": [
    "for fru,ind in enumerate(Fruits):\n",
    "    print(f\"Index {ind} : {fru}\")"
   ]
  },
  {
   "cell_type": "code",
   "execution_count": null,
   "id": "c546a9ea",
   "metadata": {},
   "outputs": [],
   "source": [
    "for ind,name in enumerate(Fruits):\n",
    "    print(ind)\n",
    "    print(name)"
   ]
  },
  {
   "cell_type": "code",
   "execution_count": null,
   "id": "4a68d216",
   "metadata": {},
   "outputs": [],
   "source": [
    "number = [1,3,4,55,44,0,5,6]\n",
    "number.sort()"
   ]
  },
  {
   "cell_type": "code",
   "execution_count": null,
   "id": "fcc8ca88",
   "metadata": {},
   "outputs": [],
   "source": [
    "number"
   ]
  },
  {
   "cell_type": "code",
   "execution_count": null,
   "id": "8487bf76",
   "metadata": {},
   "outputs": [],
   "source": [
    "x,y,z,w,r = number\n",
    "print(x)\n",
    "# print(y)\n",
    "# print(z)\n",
    "# print(w)\n",
    "# print(r)"
   ]
  },
  {
   "cell_type": "code",
   "execution_count": null,
   "id": "dbbadea2",
   "metadata": {},
   "outputs": [],
   "source": [
    "numb = [2,3,4]\n",
    "x,y,z = numb\n",
    "print(x,y,z)"
   ]
  },
  {
   "cell_type": "code",
   "execution_count": null,
   "id": "3ce9545a",
   "metadata": {},
   "outputs": [],
   "source": [
    "list1 = [1,2,3,4]\n",
    "list2 =[4,56]\n",
    "list3 = list1 + list2\n",
    "print(list3)"
   ]
  },
  {
   "cell_type": "code",
   "execution_count": null,
   "id": "8206abed",
   "metadata": {},
   "outputs": [],
   "source": [
    "number = [1,2,3,4,5,6,7,8,9,20]\n",
    "number[-8:-5:2]"
   ]
  },
  {
   "cell_type": "markdown",
   "id": "924fd7ba",
   "metadata": {},
   "source": [
    "## Tuples"
   ]
  },
  {
   "cell_type": "markdown",
   "id": "7aca3e74",
   "metadata": {},
   "source": [
    "Tuples are ordered collections of elements, similar to lists, but they are immutable, meaning their elements cannot be changed after creation."
   ]
  },
  {
   "cell_type": "code",
   "execution_count": null,
   "id": "15fc804b",
   "metadata": {},
   "outputs": [],
   "source": [
    "## create \n",
    "cordinates = (10,20)\n",
    "type(cordinates)"
   ]
  },
  {
   "cell_type": "code",
   "execution_count": null,
   "id": "bf8383ec",
   "metadata": {},
   "outputs": [],
   "source": [
    "data = (1,'ami',2.5)\n",
    "data"
   ]
  },
  {
   "cell_type": "code",
   "execution_count": null,
   "id": "f11c7101",
   "metadata": {},
   "outputs": [],
   "source": [
    "data[1]"
   ]
  },
  {
   "cell_type": "code",
   "execution_count": null,
   "id": "5e755b4e",
   "metadata": {},
   "outputs": [],
   "source": [
    "data[1] = 'vinod'"
   ]
  },
  {
   "cell_type": "code",
   "execution_count": null,
   "id": "6770ddb5",
   "metadata": {},
   "outputs": [],
   "source": [
    "data2 = list(data)\n",
    "data2"
   ]
  },
  {
   "cell_type": "code",
   "execution_count": null,
   "id": "cf066ab1",
   "metadata": {},
   "outputs": [],
   "source": [
    "data2[1] = 'vinod'\n",
    "data2"
   ]
  },
  {
   "cell_type": "code",
   "execution_count": null,
   "id": "b9e15576",
   "metadata": {},
   "outputs": [],
   "source": [
    "data = tuple(data2)\n",
    "data"
   ]
  },
  {
   "cell_type": "markdown",
   "id": "51d32340",
   "metadata": {},
   "source": [
    "### Set"
   ]
  },
  {
   "cell_type": "markdown",
   "id": "aba4be2a",
   "metadata": {},
   "source": [
    "Sets are unordered collections of unique elements. They do not allow duplicate values"
   ]
  },
  {
   "cell_type": "code",
   "execution_count": null,
   "id": "e5fd039d",
   "metadata": {},
   "outputs": [],
   "source": [
    "fruits_sets = {'apple','mango','apple'}\n",
    "type(fruits_sets)"
   ]
  },
  {
   "cell_type": "code",
   "execution_count": null,
   "id": "ffe9a609",
   "metadata": {},
   "outputs": [],
   "source": [
    "fruits_sets"
   ]
  },
  {
   "cell_type": "code",
   "execution_count": null,
   "id": "0e30fdbc",
   "metadata": {},
   "outputs": [],
   "source": [
    "### \n",
    "list1 = [1,1,11,1,1,1,1,1,2,2,2,2,2,3,3,3,3,4,4,4,45,5,5,5,5]\n",
    "list2 = set(list1)\n",
    "list2"
   ]
  },
  {
   "cell_type": "markdown",
   "id": "e3a3a719",
   "metadata": {},
   "source": []
  },
  {
   "cell_type": "markdown",
   "id": "009458db",
   "metadata": {},
   "source": [
    "## Task\n",
    "\n",
    "1) matrics create krna hai or ushka indexing\n",
    "\n",
    "2) reverse string\n",
    "\n",
    "3) palindrome Number\n",
    "\n",
    "4) Prime Number"
   ]
  },
  {
   "cell_type": "code",
   "execution_count": null,
   "id": "81d66888",
   "metadata": {},
   "outputs": [],
   "source": [
    "string = 'yaduvanshiAMit'\n",
    "\n",
    "string[::-1]"
   ]
  },
  {
   "cell_type": "code",
   "execution_count": null,
   "id": "f8a08863",
   "metadata": {},
   "outputs": [],
   "source": [
    "## Matrics\n",
    "\n",
    "matrix = [\n",
    "         [1,2,3],\n",
    "         [4,5,6],\n",
    "         [7,8,9]\n",
    "         ]"
   ]
  },
  {
   "cell_type": "code",
   "execution_count": null,
   "id": "4c4c1ebb",
   "metadata": {},
   "outputs": [],
   "source": [
    "matrix"
   ]
  },
  {
   "cell_type": "code",
   "execution_count": null,
   "id": "e052822d",
   "metadata": {},
   "outputs": [],
   "source": [
    "matrix[0]"
   ]
  },
  {
   "cell_type": "code",
   "execution_count": null,
   "id": "d7addf6b",
   "metadata": {},
   "outputs": [],
   "source": [
    "matrix[0][1]"
   ]
  },
  {
   "cell_type": "code",
   "execution_count": null,
   "id": "b952c178",
   "metadata": {},
   "outputs": [],
   "source": [
    "matrix[2][0]"
   ]
  },
  {
   "cell_type": "code",
   "execution_count": null,
   "id": "268e1c1e",
   "metadata": {},
   "outputs": [],
   "source": [
    "matrix[1][2]"
   ]
  },
  {
   "cell_type": "code",
   "execution_count": null,
   "id": "97d93a91",
   "metadata": {},
   "outputs": [],
   "source": [
    "matrix[1:3]"
   ]
  },
  {
   "cell_type": "code",
   "execution_count": null,
   "id": "8fccef79",
   "metadata": {},
   "outputs": [],
   "source": [
    "matrix[0:2]"
   ]
  },
  {
   "cell_type": "code",
   "execution_count": null,
   "id": "1709a57c",
   "metadata": {},
   "outputs": [],
   "source": [
    "matrix = [\n",
    "         [1,2,3],\n",
    "         [4,5,6],\n",
    "         [7,8,9]\n",
    "         ]"
   ]
  },
  {
   "cell_type": "code",
   "execution_count": null,
   "id": "19236759",
   "metadata": {},
   "outputs": [],
   "source": [
    "matrix[1:3]"
   ]
  },
  {
   "cell_type": "code",
   "execution_count": null,
   "id": "fa257679",
   "metadata": {},
   "outputs": [],
   "source": [
    "submatrix = [\n",
    "    \n",
    "    [matrix[1][1],matrix[1][2]],\n",
    "    [matrix[2][1],matrix[2][2]]\n",
    "]\n"
   ]
  },
  {
   "cell_type": "code",
   "execution_count": null,
   "id": "811d6005",
   "metadata": {},
   "outputs": [],
   "source": [
    "submatrix"
   ]
  },
  {
   "cell_type": "code",
   "execution_count": null,
   "id": "bdd30c38",
   "metadata": {},
   "outputs": [],
   "source": [
    "def calculate_marks():\n",
    "    numberOfSubj = int(input(\"Enter Number Of Subject\"))\n",
    "\n",
    "    total = 0\n",
    "    for i in range(1,numberOfSubj+1):\n",
    "    #     print(i)\n",
    "        subject_marks = int(input(f'Enter marks for subject {i}:'))\n",
    "        total = total + subject_marks\n",
    "\n",
    "    print(total)\n",
    "\n",
    "    ## Percentage\n",
    "\n",
    "    percatage = (total/(numberOfSubj*100))*100\n",
    "\n",
    "    print(percatage)\n",
    "\n",
    "    if percatage >=80:\n",
    "        print(f\"Your Total marks is {total} and your Percentage is {percatage} and You passed\")\n",
    "    else:\n",
    "        print('Fail')"
   ]
  },
  {
   "cell_type": "code",
   "execution_count": null,
   "id": "c541cdfb",
   "metadata": {},
   "outputs": [],
   "source": [
    " print(\"Marks List:\", marks_list)\n",
    "    print(\"Maximum Marks:\", max_marks)\n",
    "    print(\"Minimum Marks:\", min_marks)\n",
    "    print(\"Average Marks:\", average_marks)"
   ]
  },
  {
   "cell_type": "markdown",
   "id": "18287916",
   "metadata": {},
   "source": [
    "### dctionaries\n",
    "\n",
    "### Creating a Dictionaries \n",
    "\n",
    "Definition: Dictionaries are collections of key-value pairs, allowing you to store and retrieve data using unique keys.\n"
   ]
  },
  {
   "cell_type": "code",
   "execution_count": null,
   "id": "6423afa5",
   "metadata": {},
   "outputs": [],
   "source": [
    "students = {'name':'Amit','age':25,'location':'varanasi'}\n",
    "type(students)"
   ]
  },
  {
   "cell_type": "code",
   "execution_count": null,
   "id": "895b7ee4",
   "metadata": {},
   "outputs": [],
   "source": [
    "students['name']"
   ]
  },
  {
   "cell_type": "code",
   "execution_count": null,
   "id": "e07f87fa",
   "metadata": {},
   "outputs": [],
   "source": [
    "students['location']"
   ]
  },
  {
   "cell_type": "code",
   "execution_count": null,
   "id": "8a531962",
   "metadata": {},
   "outputs": [],
   "source": [
    "### value change \n",
    "\n",
    "students['age'] = 26\n",
    "students"
   ]
  },
  {
   "cell_type": "code",
   "execution_count": null,
   "id": "628f364d",
   "metadata": {},
   "outputs": [],
   "source": [
    "key_list = students.keys()\n",
    "key_list"
   ]
  },
  {
   "cell_type": "code",
   "execution_count": null,
   "id": "21ec4601",
   "metadata": {},
   "outputs": [],
   "source": [
    "values_list = students.values()\n",
    "values_list"
   ]
  },
  {
   "cell_type": "code",
   "execution_count": null,
   "id": "08a1755f",
   "metadata": {},
   "outputs": [],
   "source": [
    "item_lis = students.items()\n",
    "item_lis"
   ]
  },
  {
   "cell_type": "code",
   "execution_count": null,
   "id": "9e6ecf00",
   "metadata": {},
   "outputs": [],
   "source": [
    "type(item_lis)"
   ]
  },
  {
   "cell_type": "code",
   "execution_count": null,
   "id": "5b61abe5",
   "metadata": {},
   "outputs": [],
   "source": [
    "## update\n",
    "students.update({'Working':True\n",
    "})\n",
    "students"
   ]
  },
  {
   "cell_type": "code",
   "execution_count": null,
   "id": "00e3ea3f",
   "metadata": {},
   "outputs": [],
   "source": [
    "### \n",
    "students = [\n",
    "    \n",
    "    {'name': 'John Doe', 'age': 25, 'gender': 'Male'},\n",
    "    {'name': 'Alice Smith', 'age': 22, 'gender': 'Female'},\n",
    "    {'name': 'Bob Johnson', 'age': 30, 'gender': 'Male'}\n",
    "]\n",
    "\n",
    "\n",
    "type(students)"
   ]
  },
  {
   "cell_type": "code",
   "execution_count": null,
   "id": "6439bb88",
   "metadata": {},
   "outputs": [],
   "source": [
    "type(students[0])"
   ]
  },
  {
   "cell_type": "code",
   "execution_count": null,
   "id": "dbf2ecac",
   "metadata": {},
   "outputs": [],
   "source": [
    "students[0]"
   ]
  },
  {
   "cell_type": "code",
   "execution_count": null,
   "id": "809e6e62",
   "metadata": {},
   "outputs": [],
   "source": [
    "students[0]['age']"
   ]
  },
  {
   "cell_type": "code",
   "execution_count": null,
   "id": "e394c689",
   "metadata": {},
   "outputs": [],
   "source": [
    "students[2]['name']"
   ]
  },
  {
   "cell_type": "code",
   "execution_count": null,
   "id": "3bd5382c",
   "metadata": {},
   "outputs": [],
   "source": [
    "students[2]['name'] = 'Amit'\n",
    "students"
   ]
  },
  {
   "cell_type": "code",
   "execution_count": null,
   "id": "c205408f",
   "metadata": {},
   "outputs": [],
   "source": [
    "### Main Program\n",
    "\n",
    "def student_marks_analysis():\n",
    "    num_students = int(input(\"Enter the nymber of students: \"))\n",
    "    marks_list = []\n",
    "    \n",
    "    # input marks for each students and store in the list\n",
    "    for i in range(num_students):\n",
    "        marks = int(input(f\"enter marks for student {i+1}: \"))\n",
    "        marks_list.append(marks)\n",
    "    \n",
    "    # Calculate and display maximum, minimum, and average marks\n",
    "    max_marks = max(marks_list)\n",
    "    min_marks = min(marks_list)\n",
    "    total_marks = sum(marks_list)\n",
    "    average_marks = total_marks / num_students\n",
    "    \n",
    "     # Find the index of the student with the highest and lowest marks\n",
    "    highest_index = marks_list.index(max_marks)\n",
    "    lowest_index = marks_list.index(min_marks)\n",
    "\n",
    "    print(\"Marks List:\", marks_list)\n",
    "    print(\"Maximum Marks:\", max_marks)\n",
    "    print(\"Minimum Marks:\", min_marks)\n",
    "    print(\"Average Marks:\", average_marks)\n",
    "    \n",
    "    # Display the students who scored the highest and lowest marks\n",
    "    print(\"Student with Highest Marks:\", f\"Student {highest_index + 1}\")\n",
    "    print(\"Student with Lowest Marks:\", f\"Student {lowest_index + 1}\")\n",
    "    \n",
    "\n",
    "student_marks_analysis()   "
   ]
  },
  {
   "cell_type": "code",
   "execution_count": null,
   "id": "47e7d1a2",
   "metadata": {},
   "outputs": [],
   "source": [
    "data = {101: {'name': 'Amit',\n",
    "  'age': 45,\n",
    "  'grades': ['45', '56', '78'],\n",
    "  'subject': ['sst', 'sci', 'eng']},\n",
    " \n",
    " 102: {'name': 'anil',\n",
    "  'age': 89,\n",
    "  'grades': ['45', '78', '75'],\n",
    "  'subject': ['sci', 'eng', 'hindi']}}"
   ]
  },
  {
   "cell_type": "code",
   "execution_count": null,
   "id": "b0d7ca68",
   "metadata": {},
   "outputs": [],
   "source": [
    "data[101]"
   ]
  },
  {
   "cell_type": "code",
   "execution_count": null,
   "id": "0a23de9e",
   "metadata": {},
   "outputs": [],
   "source": [
    "data[101]['name']"
   ]
  },
  {
   "cell_type": "code",
   "execution_count": null,
   "id": "e71d3073",
   "metadata": {},
   "outputs": [],
   "source": [
    "### Nested Dictionaries\n",
    "\n",
    "car1_model = {'Mercedes':1980}\n",
    "car2_model = {'Audi':1970}\n",
    "car3_model = {'Ambassodor':1980}\n",
    "\n",
    "car = {'car1':car1_model,'car2':car2_model,'car3':car3_model}\n",
    "car"
   ]
  },
  {
   "cell_type": "code",
   "execution_count": null,
   "id": "8ee44eae",
   "metadata": {},
   "outputs": [],
   "source": [
    "car['car1']['Mercedes']"
   ]
  },
  {
   "cell_type": "code",
   "execution_count": null,
   "id": "adf17ad4",
   "metadata": {},
   "outputs": [],
   "source": [
    "### Adding\n",
    "\n",
    "\n",
    "students = {}\n",
    "\n",
    "def add_student():\n",
    "    student_id = int(input('Enter Student Roll No'))\n",
    "    name = input(\"Enter Student Name\")\n",
    "    age = int(input('Enter student age: '))\n",
    "    \n",
    "    students[student_id] = {'name':name,\n",
    "                           'age':age,}\n",
    "\n",
    "print(students)"
   ]
  },
  {
   "cell_type": "code",
   "execution_count": null,
   "id": "84734412",
   "metadata": {},
   "outputs": [],
   "source": [
    "\n",
    "def display_students():\n",
    "    try:\n",
    "        student_id = int(input('Enter Student Roll No'))\n",
    "        name = students[student_id]['name']\n",
    "        age = students[student_id]['age']\n",
    "        print(name,age)\n",
    "    except:\n",
    "        print('Please Enter Valid NUmber')\n"
   ]
  },
  {
   "cell_type": "code",
   "execution_count": null,
   "id": "f1b2297e",
   "metadata": {},
   "outputs": [],
   "source": [
    "def display_students():\n",
    "    student_id = int(input('Enter Student Roll No'))\n",
    "    if student_id in students:\n",
    "        name = students[student_id]['name']\n",
    "        age = students[student_id]['age']\n",
    "        print(name,age)\n",
    "    else:\n",
    "        print('Please Enter Valid NUmber')\n",
    "    "
   ]
  },
  {
   "cell_type": "code",
   "execution_count": null,
   "id": "17631611",
   "metadata": {},
   "outputs": [],
   "source": [
    "add_student()"
   ]
  },
  {
   "cell_type": "code",
   "execution_count": null,
   "id": "2441bf81",
   "metadata": {},
   "outputs": [],
   "source": [
    "display_students()"
   ]
  },
  {
   "cell_type": "code",
   "execution_count": null,
   "id": "c5a565af",
   "metadata": {},
   "outputs": [],
   "source": [
    "while True:\n",
    "    print(\"1. Display Student Details\")\n",
    "    print(\"2. Add New Student\")\n",
    "    print(\"3. Exit\")\n",
    "    choice = int(input(\"Enter your choice (1, 2, or 3): \"))\n",
    "    \n",
    "    if choice == 1:\n",
    "        display_students()\n",
    "    elif choice == 2:\n",
    "        add_student()\n",
    "    elif choice == 3:\n",
    "        break\n",
    "    else:\n",
    "        print(\"Invalid choice. Please try again.\")"
   ]
  },
  {
   "cell_type": "code",
   "execution_count": null,
   "id": "84ea469e",
   "metadata": {},
   "outputs": [],
   "source": [
    "students = {}\n",
    "\n",
    "\n",
    "### Student adding Function\n",
    "def add_student():\n",
    "    student_id = int(input('Enter Student Roll No'))\n",
    "    name = input(\"Enter Student Name\")\n",
    "    age = int(input('Enter student age: '))\n",
    "    grades = (input(\"enter sttudent grades (comma-separated): \")).split(\",\")\n",
    "    gradelist = []\n",
    "\n",
    "    for i in grades:\n",
    "        gradelist.append(int(i))\n",
    "\n",
    "\n",
    "    students[student_id] = {'name':name,\n",
    "                           'age':age,\n",
    "                           'grade':gradelist}\n",
    "\n",
    "## Student display Function\n",
    "def display_students():\n",
    "    student_id = int(input('Enter Student Roll No'))\n",
    "    if student_id in students:\n",
    "        name = students[student_id]['name']\n",
    "        age = students[student_id]['age']\n",
    "        garde = students[student_id]['grade']\n",
    "        print(name,age,garde)\n",
    "    else:\n",
    "        print('Please Enter Valid NUmber')\n",
    "        \n",
    "while True:\n",
    "    print(\"1. Display Student Details\")\n",
    "    print(\"2. Add New Student\")\n",
    "    print(\"3. Exit\")\n",
    "    choice = int(input(\"Enter your choice (1, 2, or 3): \"))\n",
    "    \n",
    "    if choice == 1:\n",
    "        display_students()\n",
    "    elif choice == 2:\n",
    "        add_student()\n",
    "    elif choice == 3:\n",
    "        break\n",
    "    else:\n",
    "        break\n",
    "        print(\"Invalid choice. Please try again.\")"
   ]
  },
  {
   "cell_type": "code",
   "execution_count": null,
   "id": "011b9f9c",
   "metadata": {},
   "outputs": [],
   "source": [
    "### \n",
    "students = {}\n",
    "\n",
    "\n",
    "\n",
    "student_id = int(input('Enter Student Roll No'))\n",
    "name = input(\"Enter Student Name\")\n",
    "age = int(input('Enter student age: '))\n",
    "grades = (input(\"enter sttudent grades (comma-separated): \")).split(\",\")\n",
    "gradelist = []\n",
    "\n",
    "for i in grades:\n",
    "    gradelist.append(int(i))\n",
    "\n",
    "\n",
    "students[student_id] = {'name':name,\n",
    "                       'age':age,\n",
    "                       'grade':gradelist}\n",
    "    "
   ]
  },
  {
   "cell_type": "code",
   "execution_count": null,
   "id": "2cf5d86b",
   "metadata": {},
   "outputs": [],
   "source": [
    "grades = (input(\"enter sttudent grades (comma-separated): \"))\n",
    "print(grades)"
   ]
  },
  {
   "cell_type": "code",
   "execution_count": null,
   "id": "b9e8b0e5",
   "metadata": {},
   "outputs": [],
   "source": [
    "type(grades)"
   ]
  },
  {
   "cell_type": "code",
   "execution_count": null,
   "id": "ffa0f832",
   "metadata": {},
   "outputs": [],
   "source": [
    "gradelist = grades.split(',')\n",
    "print(gradelist)"
   ]
  },
  {
   "cell_type": "code",
   "execution_count": null,
   "id": "05000000",
   "metadata": {},
   "outputs": [],
   "source": [
    "gradelist = ['45', '56', '89', '78']\n",
    "out =[45,56,89,78]\n",
    "newlist = []\n",
    "\n",
    "for i in gradelist:\n",
    "    newlist.append(int(i))\n",
    "newlist\n"
   ]
  },
  {
   "cell_type": "code",
   "execution_count": 1,
   "id": "0c5cabd2",
   "metadata": {},
   "outputs": [
    {
     "name": "stdout",
     "output_type": "stream",
     "text": [
      "Enter student grades (comma-separated): 45,56,78,89\n",
      "[45, 56, 78, 89]\n"
     ]
    }
   ],
   "source": [
    "grades = [int(x) for x in input(\"Enter student grades (comma-separated): \").split(\",\")]\n",
    "print(grades)"
   ]
  },
  {
   "cell_type": "code",
   "execution_count": 2,
   "id": "05af832e",
   "metadata": {},
   "outputs": [
    {
     "name": "stdout",
     "output_type": "stream",
     "text": [
      "[2, 4, 6, 8]\n"
     ]
    }
   ],
   "source": [
    "number = [2,3,4,5,6,7,8]\n",
    "even = []\n",
    "for i in number:\n",
    "    if i % 2 ==0:\n",
    "        even.append(i)\n",
    "    else:\n",
    "        pass\n",
    "print(even)"
   ]
  },
  {
   "cell_type": "code",
   "execution_count": 3,
   "id": "d427e348",
   "metadata": {},
   "outputs": [
    {
     "name": "stdout",
     "output_type": "stream",
     "text": [
      "[2, 4, 6, 8]\n"
     ]
    }
   ],
   "source": [
    "even = [i for i in number if i%2 ==0]\n",
    "print(even)"
   ]
  },
  {
   "cell_type": "code",
   "execution_count": null,
   "id": "321dfc88",
   "metadata": {},
   "outputs": [],
   "source": []
  }
 ],
 "metadata": {
  "kernelspec": {
   "display_name": "Python 3 (ipykernel)",
   "language": "python",
   "name": "python3"
  },
  "language_info": {
   "codemirror_mode": {
    "name": "ipython",
    "version": 3
   },
   "file_extension": ".py",
   "mimetype": "text/x-python",
   "name": "python",
   "nbconvert_exporter": "python",
   "pygments_lexer": "ipython3",
   "version": "3.9.12"
  }
 },
 "nbformat": 4,
 "nbformat_minor": 5
}
