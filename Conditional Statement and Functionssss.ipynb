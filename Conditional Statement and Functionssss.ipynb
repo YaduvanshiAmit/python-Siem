{
 "cells": [
  {
   "cell_type": "code",
   "execution_count": null,
   "id": "2d8efa5a",
   "metadata": {},
   "outputs": [],
   "source": [
    "def change_value(x):\n",
    "    x = 2\n",
    "\n",
    "x = 1\n",
    "change_value(x)\n",
    "print(x)"
   ]
  },
  {
   "cell_type": "code",
   "execution_count": null,
   "id": "886a9e9f",
   "metadata": {},
   "outputs": [],
   "source": [
    "x = [1, 2, 3]\n",
    "y = x.copy()\n",
    "y[0] = 0\n",
    "print(x)"
   ]
  },
  {
   "cell_type": "code",
   "execution_count": null,
   "id": "71ab31e8",
   "metadata": {},
   "outputs": [],
   "source": [
    "x = [1, 2, 3]\n",
    "y = x\n",
    "y[0] = 0\n",
    "print(x)"
   ]
  },
  {
   "cell_type": "code",
   "execution_count": null,
   "id": "1cdb4e20",
   "metadata": {},
   "outputs": [],
   "source": [
    "### Prime Number\n",
    "\n",
    "num = int(input('Enter a Number'))\n",
    "flag = False\n",
    "if num >1:\n",
    "    for i in range(2,num):\n",
    "        if (num % i)== 0:\n",
    "            flag = True\n",
    "            break\n",
    "if flag:\n",
    "    print(\"No\")\n",
    "else:\n",
    "    print(\"Yes\")"
   ]
  },
  {
   "cell_type": "code",
   "execution_count": null,
   "id": "cea5aec9",
   "metadata": {},
   "outputs": [],
   "source": [
    "x = 5\n",
    "y = x\n",
    "x += 2\n",
    "print(y)\n"
   ]
  },
  {
   "cell_type": "code",
   "execution_count": null,
   "id": "6b8b826e",
   "metadata": {},
   "outputs": [],
   "source": [
    "x = -5\n",
    "\n",
    "if x > 0 and x < 10:\n",
    "    print(\"x is a single-digit positive number\")\n",
    "elif x <= 0 or x >= 10:\n",
    "    print(\"x is either non-positive or double-digit or greater\")\n",
    "else:\n",
    "    print(\"x is within the range of 1 to 9\")"
   ]
  },
  {
   "cell_type": "code",
   "execution_count": null,
   "id": "b9d73ac0",
   "metadata": {},
   "outputs": [],
   "source": [
    "def grade(percentage):\n",
    "    if percentage >= 90:\n",
    "        if percentage >=95:\n",
    "            return 'A+'\n",
    "        else:\n",
    "            return 'A'\n",
    "    \n",
    "    elif 80<=percentage<90:\n",
    "        return 'B'\n",
    "    elif 70 <=percentage<80:\n",
    "        return 'C'\n",
    "    else:\n",
    "        return 'D'\n",
    "    \n",
    "# Example: Get grade based on percentage\n",
    "percentage = float(input(\"Enter percentage: \"))\n",
    "grade = grade(percentage)\n",
    "print(f\"Grade: {grade}\")\n"
   ]
  },
  {
   "cell_type": "code",
   "execution_count": null,
   "id": "b9b1a81f",
   "metadata": {},
   "outputs": [],
   "source": [
    "x = 5\n",
    "y = -10\n",
    "\n",
    "if x > 0:\n",
    "    if y > 0:\n",
    "        print(\"Both x and y are positive\")\n",
    "    else:\n",
    "        print(\"x is positive, but y is not\")\n",
    "else:\n",
    "    print(\"x is not positive\")"
   ]
  },
  {
   "cell_type": "code",
   "execution_count": null,
   "id": "e5185a2e",
   "metadata": {},
   "outputs": [],
   "source": [
    "#### try except else finally\n",
    "\n",
    "try:\n",
    "    x = 10/2\n",
    "    print(x)\n",
    "except:\n",
    "    print('There is Some Tecnical Issue')\n",
    "else:\n",
    "    print('No error Occures')\n",
    "finally:\n",
    "    print(\"This will always be executed\")"
   ]
  },
  {
   "cell_type": "code",
   "execution_count": null,
   "id": "5eba43a0",
   "metadata": {},
   "outputs": [],
   "source": [
    "try:\n",
    "    x = 10/0\n",
    "    print(x)\n",
    "\n",
    "except Exception as e:\n",
    "    print(e)\n",
    "\n",
    "else:\n",
    "    print('No error Occures')\n",
    "finally:\n",
    "    print(\"This will always be executed\")\n",
    "\n",
    "    "
   ]
  },
  {
   "cell_type": "code",
   "execution_count": null,
   "id": "a99583fe",
   "metadata": {},
   "outputs": [],
   "source": [
    "x = 10/0"
   ]
  },
  {
   "cell_type": "code",
   "execution_count": null,
   "id": "f979eadf",
   "metadata": {},
   "outputs": [],
   "source": [
    "try:\n",
    "    # Code that might raise exceptions\n",
    "    x = int(input(\"Enter a number: \"))\n",
    "    result = 10 / x\n",
    "    a_list = [1, 2, 3]\n",
    "    print(a_list[4])  # This will raise an IndexError\n",
    "\n",
    "except ZeroDivisionError:\n",
    "    # Handle a ZeroDivisionError\n",
    "    print(\"You cannot divide by zero.\")\n",
    "except ValueError:\n",
    "    # Handle a ValueError (e.g., if the user enters a non-integer)\n",
    "    print(\"Invalid input. Please enter a valid number.\")\n",
    "except IndexError:\n",
    "    # Handle an IndexError (e.g., accessing an out-of-range list element)\n",
    "    print(\"Index out of range.\")\n",
    "except Exception as e:\n",
    "    # Handle any other exception\n",
    "    print(\"An exception occurred:\", str(e))\n"
   ]
  },
  {
   "cell_type": "code",
   "execution_count": null,
   "id": "ac3faa58",
   "metadata": {},
   "outputs": [],
   "source": [
    "for i in range(1, 4):\n",
    "#     print(i)\n",
    "    for j in range(6, 10):\n",
    "        print(i, j)\n",
    "    print('oooo')"
   ]
  },
  {
   "cell_type": "code",
   "execution_count": null,
   "id": "7a4286e8",
   "metadata": {},
   "outputs": [],
   "source": [
    "# name = Required Argument\n",
    "# messgae = Default\n",
    "def Hello(name,message='Hello'):\n",
    "    \n",
    "    print(message + \", \" + name + \"!\")\n",
    "    \n",
    "Hello('amit','Namste')"
   ]
  },
  {
   "cell_type": "code",
   "execution_count": null,
   "id": "8d8b1f7c",
   "metadata": {},
   "outputs": [],
   "source": [
    "Hello('Amit',)"
   ]
  },
  {
   "cell_type": "code",
   "execution_count": null,
   "id": "8b3cb963",
   "metadata": {},
   "outputs": [],
   "source": [
    "Hello(\"Amit\",'Hiiiiiii','hhhhhh')"
   ]
  },
  {
   "cell_type": "code",
   "execution_count": null,
   "id": "72367b5c",
   "metadata": {},
   "outputs": [],
   "source": [
    "def sum(a,b=5):\n",
    "    print(a+b)"
   ]
  },
  {
   "cell_type": "code",
   "execution_count": null,
   "id": "7084d210",
   "metadata": {},
   "outputs": [],
   "source": [
    "sum(7,10)"
   ]
  },
  {
   "cell_type": "code",
   "execution_count": null,
   "id": "d5ec8cc8",
   "metadata": {},
   "outputs": [],
   "source": [
    "### *args and **kwargs\n",
    "## *args\n",
    "\n",
    "def myFun(*namess):\n",
    "    for name in namess:\n",
    "        print(name)\n",
    "\n"
   ]
  },
  {
   "cell_type": "code",
   "execution_count": null,
   "id": "3bf9068a",
   "metadata": {},
   "outputs": [],
   "source": [
    "myFun('Amit','Mohan','Rohan')"
   ]
  },
  {
   "cell_type": "code",
   "execution_count": null,
   "id": "86cccc27",
   "metadata": {},
   "outputs": [],
   "source": [
    "def myFun(**kwargs):\n",
    "    print(kwargs)\n",
    "    for key,value in kwargs.items():\n",
    "        print((key, value))\n",
    "        \n",
    "myFun(first='Amit',mid='Aman',last='Aman')"
   ]
  },
  {
   "cell_type": "code",
   "execution_count": null,
   "id": "74f7ed9d",
   "metadata": {},
   "outputs": [],
   "source": [
    "def example_function(arg1,arg2,*args, kwarg1=None, **kwargs):\n",
    "    print(\"arg1:\", arg1)\n",
    "    print(\"arg2:\", arg2)\n",
    "    print(\"args:\", args)\n",
    "    print(\"kwarg1:\", kwarg1)\n",
    "    print(\"kwargs:\", kwargs)\n",
    "\n",
    "# Calling the function with different arguments\n",
    "example_function(\"Hello\", \"World\", \"Python\", \"java\",'mit',kwarg1=\"Keyword\", key1=\"Value\", key2=\"Another Value\",)\n"
   ]
  },
  {
   "cell_type": "code",
   "execution_count": null,
   "id": "dc39a72a",
   "metadata": {},
   "outputs": [],
   "source": [
    "def log_message(*args, **kwargs):\n",
    "    try:\n",
    "        print(kwargs)\n",
    "    \n",
    "#     level = kwargs.get('level', 'info')\n",
    "    \n",
    "#     message = ' '.join(args)\n",
    "        level = 'info'\n",
    "        if level == 'info':\n",
    "            print(f'[INFO] {message}')\n",
    "\n",
    "        elif level == 'warning':\n",
    "            print(f'[WARNING] {message}')\n",
    "\n",
    "        elif level == 'error':\n",
    "            print(f'[ERROR] {message}')\n",
    "        else:\n",
    "            print('{message}')\n",
    "            \n",
    "    except:\n",
    "        print(args)"
   ]
  },
  {
   "cell_type": "code",
   "execution_count": null,
   "id": "1f822e20",
   "metadata": {},
   "outputs": [],
   "source": [
    "log_message('This is a informational message')"
   ]
  },
  {
   "cell_type": "code",
   "execution_count": null,
   "id": "22df8625",
   "metadata": {},
   "outputs": [],
   "source": [
    "log_message('Warning: Invalid input.', level='warning')"
   ]
  },
  {
   "cell_type": "code",
   "execution_count": null,
   "id": "6075dd96",
   "metadata": {},
   "outputs": [],
   "source": [
    "### example\n",
    "\n",
    "def calculate_total_cost(discount_rate, *args, **kwargs):\n",
    "    print(args)\n",
    "    print(kwargs)\n",
    "    total = sum(args)  # Summing up the prices in args\n",
    "    print(total)\n",
    "    # Applying discounts from kwargs\n",
    "    for price in kwargs.values():\n",
    "        total -= price * (discount_rate / 100)\n",
    "    \n",
    "    return total"
   ]
  },
  {
   "cell_type": "code",
   "execution_count": null,
   "id": "bddcc292",
   "metadata": {},
   "outputs": [],
   "source": [
    "total_cost = calculate_total_cost(10, 50, 30, apple=1.5, banana=0.75, orange=2.0)\n",
    "\n",
    "print(\"Total Cost:\", total_cost)"
   ]
  },
  {
   "cell_type": "code",
   "execution_count": null,
   "id": "283cfc66",
   "metadata": {},
   "outputs": [],
   "source": [
    "dictionary = {'apple': 1.5, 'banana': 0.75, 'orange': 2.0}\n",
    "\n",
    "for key in dictionary.keys():\n",
    "    print(key)"
   ]
  },
  {
   "cell_type": "code",
   "execution_count": null,
   "id": "5922231d",
   "metadata": {},
   "outputs": [],
   "source": [
    "for values in dictionary.values():\n",
    "    print(values)"
   ]
  },
  {
   "cell_type": "code",
   "execution_count": null,
   "id": "9d672f99",
   "metadata": {},
   "outputs": [],
   "source": [
    "for keys,values in dictionary.items():\n",
    "    print(keys,values)"
   ]
  },
  {
   "cell_type": "code",
   "execution_count": null,
   "id": "82398fed",
   "metadata": {},
   "outputs": [],
   "source": [
    "#### ArmStrong Number \n",
    "\n",
    "\n"
   ]
  },
  {
   "cell_type": "code",
   "execution_count": null,
   "id": "58cbe3b9",
   "metadata": {},
   "outputs": [],
   "source": [
    "def foo(x, y=5):\n",
    "    return x + y\n",
    "\n",
    "result = foo(3,9)\n",
    "print(result)"
   ]
  },
  {
   "cell_type": "code",
   "execution_count": null,
   "id": "8354c9c5",
   "metadata": {},
   "outputs": [],
   "source": [
    "### Gourav\n",
    "\n",
    "def armstrong_num(num):\n",
    "    \n",
    "    if num in range(1,10):\n",
    "        return 'Number is an Arsmtrong number'\n",
    "    \n",
    "    sum = 0\n",
    "    order = len(str(num))\n",
    "    org_num = num\n",
    "    \n",
    "    while num>0:\n",
    "        r = num % 10\n",
    "        sum = sum + pow(r,order)\n",
    "        num = num //10\n",
    "        \n",
    "    if sum == org_num:\n",
    "        return f'{num} is a Armstrong num'\n",
    "    return f'{num} is not an Armstrong num'       \n",
    "\n",
    "\n",
    "num = int(input('Enter your number to check: '))\n",
    "armstrong_num(num)"
   ]
  },
  {
   "cell_type": "code",
   "execution_count": null,
   "id": "2172518b",
   "metadata": {},
   "outputs": [],
   "source": [
    "students = {}\n",
    "\n",
    "### adding students details\n",
    "\n",
    "def add_student():\n",
    "    stud_id = int(input('Enter student roll no= '))\n",
    "    name = input('Enter studetn name = ')\n",
    "    age = int(input('Enter student age =' ))\n",
    "    grades=(input('Enter students grades (comma-separated): ')).split(\",\")\n",
    "    gradelist = []\n",
    "    \n",
    "    for i in grades:\n",
    "        gradelist.append(int(i))\n",
    "\n",
    "    students[stud_id] = {'Name':name,\n",
    "                         'Age': age,\n",
    "                       'Grades' : gradelist}\n",
    "\n",
    "def students_marks_analyze():\n",
    "    \n",
    "    stud_id = int(input('\\nEnter student id: '))\n",
    "    \n",
    "    if stud_id not in students:\n",
    "        print('''No students marks added. \n",
    "                  Please add students details and marks to analyze. \n",
    "                  Thank you!!''')\n",
    "        return\n",
    "    \n",
    "    marks_list = []\n",
    "    for stud_id in students:\n",
    "        marks = students[stud_id]['Grades']\n",
    "        print(marks)\n",
    "        marks_list.extend(marks)     ######---- append is to single element at once while extend is to add multiple elements at once\n",
    "                                        \n",
    "    \n",
    "    ###  to calculate maximum, minimum and average marks    \n",
    "    max_marks = max(marks_list)\n",
    "    min_marks = min(marks_list)\n",
    "    average_marks = sum(marks_list) / len(marks_list)\n",
    "    \n",
    "    \n",
    "    ##  Find the index of the student with the highest and lowest marks\n",
    "    highest_index = marks_list.index(max_marks) \n",
    "    lowest_index = marks_list.index(min_marks)\n",
    "    \n",
    "    \n",
    "    ### Display marks list , maximum marks , minimum marks , average marks\n",
    "    print('\\nMarks list: ',marks_list)\n",
    "    print('Maximum marks: ',max_marks)\n",
    "    print('Minimum marks: ',min_marks)\n",
    "    print('Average marks: ',average_marks)\n",
    "    \n",
    "    \n",
    "    ## Display index of student with highest and lowest marks\n",
    "    print('\\nStudent with Highest marks: ', f'Student {highest_index + 1}')\n",
    "    print('Studetn with lowest marks: ', f'Student {lowest_index + 1}')    \n",
    "    \n",
    "    \n",
    "#######   display students details\n",
    "def display_student():\n",
    "    stud_id = int(input('Enter student roll no= '))\n",
    "    if stud_id in students:\n",
    "        name = students[stud_id]['Name']\n",
    "        age = students[stud_id]['Age']\n",
    "        grade = students[stud_id]['Grades']\n",
    "        print(f\"Name: {name}\\nAge: {age}\\nGrades: {grade}\")\n",
    "        print('\\n')\n",
    "    else:\n",
    "        print('Enter valid student ID')\n",
    "        \n",
    "        \n",
    "### Choice\n",
    "while True:\n",
    "    print('\\n')\n",
    "    print('1. Display Students details')\n",
    "    print('2. Add new student details')\n",
    "    print('3. Analyze students marks')\n",
    "    print('4. Exit\\n')\n",
    "    choice = int(input('Enter your choice (1,2,3,4): '))\n",
    "    \n",
    "    if choice == 1:\n",
    "        display_student()\n",
    "    elif choice == 2:\n",
    "        add_student()\n",
    "    elif choice == 3:\n",
    "        students_marks_analyze()\n",
    "    elif choice == 4:\n",
    "        break\n",
    "    else:\n",
    "        print('Invalid choice! Try again....')\n",
    "        break"
   ]
  },
  {
   "cell_type": "code",
   "execution_count": null,
   "id": "26fffa5b",
   "metadata": {},
   "outputs": [],
   "source": [
    "## Payel\n",
    "number=int(input('Enter any positive number:'))\n",
    "\n",
    "def check_armstrong(num):\n",
    "    if num in range(1,10)\n",
    "    order=len(str(num))\n",
    "    sum=0\n",
    "    original_num=num\n",
    "    \n",
    "    \n",
    "    while num>0:\n",
    "        digit=num%10\n",
    "        sum +=digit **order\n",
    "        num= num//10\n",
    "\n",
    "    if sum==original_num:\n",
    "         return True\n",
    "         return False\n",
    "\n",
    "    if check_armstrong(number):\n",
    "        print('number is armstrong')\n",
    "\n",
    "    else:\n",
    "        print('number is not armstrong')"
   ]
  },
  {
   "cell_type": "code",
   "execution_count": null,
   "id": "565088e7",
   "metadata": {},
   "outputs": [],
   "source": [
    "n= int(input(\"enter a number:\"))\n",
    "sum= 0\n",
    "temp=n\n",
    "\n",
    "while n>0:\n",
    "    r=n%10\n",
    "    sum= sum + r*r*r\n",
    "    n=n//10\n",
    "\n",
    "if temp==sum:\n",
    "    print( \"armstrong number\" )\n",
    "\n",
    "else:\n",
    "    print( \"not armstrong\" )\n",
    "    "
   ]
  },
  {
   "cell_type": "code",
   "execution_count": null,
   "id": "7e9c35d8",
   "metadata": {},
   "outputs": [],
   "source": [
    "def armstrong_num(num):\n",
    "    \n",
    "    if num in range(1,10):\n",
    "        return 'Number is an Arsmtrong number'\n",
    "    \n",
    "    sum = 0\n",
    "    order = len(str(num))\n",
    "    org_num = num\n",
    "    \n",
    "    while num>0:\n",
    "        r = num % 10\n",
    "        sum = sum + pow(r,order)\n",
    "        num = num //10\n",
    "        \n",
    "    if sum == org_num:\n",
    "        return f'{num} is a Armstrong num'\n",
    "    return f'{num} is not an Armstrong num'       \n",
    "\n",
    "\n",
    "num = int(input('Enter your number to check: '))\n",
    "armstrong_num(num)"
   ]
  },
  {
   "cell_type": "code",
   "execution_count": null,
   "id": "3e4ff44e",
   "metadata": {},
   "outputs": [],
   "source": [
    "z = 25\n",
    "\n",
    "def modify_z():\n",
    "    global z\n",
    "    z = z + 5\n",
    "    return z\n",
    "\n",
    "result = modify_z()\n",
    "print(result)"
   ]
  },
  {
   "cell_type": "code",
   "execution_count": null,
   "id": "3afcd49f",
   "metadata": {},
   "outputs": [],
   "source": [
    "y = 15\n",
    "\n",
    "def modify_y():\n",
    "    global y\n",
    "    y = 20\n",
    "    return y\n",
    "\n",
    "reult = modify_y()\n",
    "# print(reult)\n",
    "print(y)"
   ]
  },
  {
   "cell_type": "code",
   "execution_count": null,
   "id": "4a416997",
   "metadata": {},
   "outputs": [],
   "source": [
    "global b\n",
    "b = 35\n",
    "\n",
    "def modify_b():\n",
    "    global b\n",
    "    b = 25\n",
    "    \n",
    "    b = b - 5\n",
    "\n",
    "modify_b()\n",
    "\n",
    "print(b)"
   ]
  },
  {
   "cell_type": "code",
   "execution_count": null,
   "id": "ff59cb7c",
   "metadata": {},
   "outputs": [],
   "source": [
    "### Decorator\n",
    "\n",
    "def decorator(func):\n",
    "    def wrapper():\n",
    "        print(\"Before function execution\")\n",
    "        func()\n",
    "        print(\"After function execution\")\n",
    "    return wrapper\n",
    "\n",
    "@decorator\n",
    "def hello():\n",
    "    print(\"Hello, World!\")\n",
    "    \n",
    "hello()\n"
   ]
  },
  {
   "cell_type": "code",
   "execution_count": null,
   "id": "b0385f74",
   "metadata": {},
   "outputs": [],
   "source": [
    "def hello():\n",
    "    print(\"Hello, World!\")\n",
    "    \n",
    "hello()"
   ]
  },
  {
   "cell_type": "code",
   "execution_count": null,
   "id": "644e8791",
   "metadata": {},
   "outputs": [],
   "source": [
    "def uppercase_decorator(function):\n",
    "    def wrapper():\n",
    "        result = function()\n",
    "        print(result)\n",
    "        return result.upper()\n",
    "    return wrapper"
   ]
  },
  {
   "cell_type": "code",
   "execution_count": null,
   "id": "61902a20",
   "metadata": {},
   "outputs": [],
   "source": [
    "@uppercase_decorator\n",
    "def geet():\n",
    "    return 'Hello World'\n",
    "\n",
    "geet()"
   ]
  },
  {
   "cell_type": "code",
   "execution_count": 2,
   "id": "d0572467",
   "metadata": {},
   "outputs": [],
   "source": [
    "def time_decorator(func):\n",
    "    import time\n",
    "    \n",
    "    def wrapper(*args,**kwargs):\n",
    "        start_time = time.time()\n",
    "        print(start_time)\n",
    "        result = func(*args, **kwargs)\n",
    "        print(result)\n",
    "        end_time = time.time()\n",
    "        print(end_time)\n",
    "        execution_time = end_time - start_time\n",
    "        print(f\"Execution time: {execution_time:.2f} seconds\")\n",
    "        return result\n",
    "\n",
    "    return wrapper"
   ]
  },
  {
   "cell_type": "code",
   "execution_count": 3,
   "id": "69070f1f",
   "metadata": {},
   "outputs": [
    {
     "name": "stdout",
     "output_type": "stream",
     "text": [
      "1694183005.832865\n",
      "38\n",
      "1694183005.832865\n",
      "Execution time: 0.00 seconds\n"
     ]
    },
    {
     "data": {
      "text/plain": [
       "38"
      ]
     },
     "execution_count": 3,
     "metadata": {},
     "output_type": "execute_result"
    }
   ],
   "source": [
    "@time_decorator\n",
    "def calculate_sum(number):\n",
    "    return sum(number)\n",
    "\n",
    "number_list = [1,2,5,6,7,8,9]\n",
    "calculate_sum(number_list)"
   ]
  },
  {
   "cell_type": "code",
   "execution_count": null,
   "id": "9c0cf2e6",
   "metadata": {},
   "outputs": [],
   "source": [
    "import time\n",
    "\n",
    "@time_decorator\n",
    "def armstrong_num(num):\n",
    "    if num in range(1,10):\n",
    "        return 'Number is an Arsmtrong number'\n",
    "    \n",
    "    sum = 0\n",
    "    order = len(str(num))\n",
    "    org_num = num\n",
    "    \n",
    "    while num>0:\n",
    "        r = num % 10\n",
    "        sum = sum + pow(r,order)\n",
    "        num = num //10\n",
    "    if sum == org_num:\n",
    "        return f'{num} is a Armstrong num'\n",
    "    \n",
    "    return f'{num} is not an Armstrong num'       \n",
    "\n",
    "\n",
    "num = int(input('Enter your number to check: '))\n",
    "\n",
    "\n",
    "armstrong_num(num)"
   ]
  },
  {
   "cell_type": "code",
   "execution_count": 6,
   "id": "7507706d",
   "metadata": {},
   "outputs": [
    {
     "name": "stdout",
     "output_type": "stream",
     "text": [
      "11\n"
     ]
    }
   ],
   "source": [
    "## Closure\n",
    "def outer_function(x):\n",
    "    def inner_function(y):\n",
    "        return x + y\n",
    "    return inner_function\n",
    "\n",
    "result = outer_function(5)\n",
    "\n",
    "print(result(6))\n",
    "# print(result(6))"
   ]
  },
  {
   "cell_type": "code",
   "execution_count": 12,
   "id": "2d03577c",
   "metadata": {},
   "outputs": [
    {
     "name": "stdout",
     "output_type": "stream",
     "text": [
      "30\n"
     ]
    }
   ],
   "source": [
    "def outer(x):\n",
    "#     print(x)\n",
    "    def inner(y):\n",
    "        \n",
    "        return x + y\n",
    "    return inner\n",
    "\n",
    "closure1 = outer(10)\n",
    "# print(closure1)\n",
    "clouser2 = outer(20)\n",
    "# print(clouser2)\n",
    "\n",
    "result1 = closure1(5)\n",
    "# print(result1)\n",
    "result2 = clouser2(10)\n",
    "print(result2)"
   ]
  },
  {
   "cell_type": "code",
   "execution_count": 13,
   "id": "12c24165",
   "metadata": {},
   "outputs": [
    {
     "data": {
      "text/plain": [
       "5"
      ]
     },
     "execution_count": 13,
     "metadata": {},
     "output_type": "execute_result"
    }
   ],
   "source": [
    "## Lambda\n",
    "\n",
    "def add(a,b):\n",
    "    return a+b\n",
    "\n",
    "add(2,3)"
   ]
  },
  {
   "cell_type": "code",
   "execution_count": 14,
   "id": "9aa1be0e",
   "metadata": {},
   "outputs": [
    {
     "data": {
      "text/plain": [
       "11"
      ]
     },
     "execution_count": 14,
     "metadata": {},
     "output_type": "execute_result"
    }
   ],
   "source": [
    "addition = lambda a,b:a+b\n",
    "\n",
    "addition(5,6)"
   ]
  },
  {
   "cell_type": "code",
   "execution_count": 15,
   "id": "a4a69dc6",
   "metadata": {},
   "outputs": [],
   "source": [
    "def even(a):\n",
    "    if a % 2 == 0:\n",
    "        print('True')"
   ]
  },
  {
   "cell_type": "code",
   "execution_count": 16,
   "id": "d207efd9",
   "metadata": {},
   "outputs": [
    {
     "name": "stdout",
     "output_type": "stream",
     "text": [
      "True\n"
     ]
    }
   ],
   "source": [
    "even(8)"
   ]
  },
  {
   "cell_type": "code",
   "execution_count": 17,
   "id": "0f9a1683",
   "metadata": {},
   "outputs": [
    {
     "data": {
      "text/plain": [
       "True"
      ]
     },
     "execution_count": 17,
     "metadata": {},
     "output_type": "execute_result"
    }
   ],
   "source": [
    "evenNumber = lambda a:a % 2 == 0\n",
    "evenNumber(8)"
   ]
  },
  {
   "cell_type": "code",
   "execution_count": 18,
   "id": "7bdf8028",
   "metadata": {},
   "outputs": [],
   "source": [
    "## Question 1\n",
    "\n",
    "#return exponent if both numbers are even and sum if any one of them is odd.\n",
    "\n",
    "### simple Func\n",
    "\n",
    "## Lambda  Func\n"
   ]
  },
  {
   "cell_type": "code",
   "execution_count": null,
   "id": "7f3fb758",
   "metadata": {},
   "outputs": [],
   "source": [
    "## question 2 \n",
    "\n",
    "fruits = ['Apple','Mango','Orange','Cherry','Banana','kiwi','Lichi']\n",
    "\n",
    "### first condition print even place Fruits \n",
    "### second Condition Check Fruits name length is even or not\n",
    "\n",
    "## Simple Function\n",
    "\n",
    "## List Comp..\n"
   ]
  },
  {
   "cell_type": "code",
   "execution_count": 19,
   "id": "35f8d202",
   "metadata": {},
   "outputs": [],
   "source": [
    "### Fibonacci Series\n",
    "\n",
    "### Factorial Number\n",
    "\n",
    "## Celsius To Fahrenite\n",
    "## Fahrenite To Celsius"
   ]
  },
  {
   "cell_type": "code",
   "execution_count": null,
   "id": "5577f71a",
   "metadata": {},
   "outputs": [],
   "source": [
    "###Celsius To Fahrenite\n",
    "\n",
    "celsius = int(input(\"enter the temperature: \"))\n",
    "fahrenheit = (celsius * 1.8) + 32\n",
    "print(\"%2f celsius = %2f fahrenheit\" % (celsius, fahrenheit))\n",
    "\n",
    "###Fahrenite To Celsius\n",
    "\n",
    "F = int(input(\"enter temperature in fahrenheit:\"))\n",
    "C = (F-32)*5/9\n",
    "print(\"temperature in celsius: \")\n",
    "print(C)\n",
    "\n",
    "###Factorial Number\n",
    "\n",
    "num = int(input(\"enter a number: \"))\n",
    "fact= 1\n",
    "for i in range(1, num+1):\n",
    "    fact = fact*i;\n",
    "\n",
    "print(\"Factorial:\",fact)\n",
    "\n",
    "###Fibonacci Series\n",
    "\n",
    "def fib(n):\n",
    "\n",
    "    a=0\n",
    "    b=1\n",
    "\n",
    "    if n==1:\n",
    "        print(a)\n",
    "\n",
    "    else:\n",
    "        print(a)\n",
    "        print(b)\n",
    "\n",
    "    for i in range(2,n):\n",
    "        c = a+b \n",
    "        a=b\n",
    "    \n",
    "    print(0)\n",
    "    p\n",
    "\n",
    "\n",
    "\n",
    "\n",
    "###return exponent if both numbers are even and sum if any one of them is odd.\n",
    "\n",
    "def R(a,b):\n",
    "    if a%2==0 and b%2==0:    ##both the numbers are even, return exponent value\n",
    "        return a**b\n",
    "    else:\n",
    "        return a+b           ##at least one number is odd, return sum\n",
    "R(3,7)\n",
    "\n",
    "        \n",
    "###Lambda function\n",
    "\n",
    "R = lambda a,b: a**b if a%2==0 and b%2==0 else a+b\n",
    "print(R(3,7))\n",
    "\n",
    "        \n",
    "\n",
    "### fruits = ['Apple','Mango','Orange','Cherry','Banana','kiwi','Lichi']\n",
    "\n",
    "### first condition print even place Fruits \n",
    "### second Condition Check Fruits name length is even or not\n",
    "\n",
    "fruits in enumerate(fruits):\n",
    "if index %2 ==0:    #if position is even\n",
    "    if len(fruit) %2 ==0:\n",
    "        print(fruit)"
   ]
  },
  {
   "cell_type": "code",
   "execution_count": null,
   "id": "f296fe39",
   "metadata": {},
   "outputs": [],
   "source": [
    "def q1(a,b):\n",
    "    if a%2==0 and b%2==0:\n",
    "        print(a**b)\n",
    "    else:\n",
    "        print(a+b)\n",
    "        \n",
    "q1(2,4)\n",
    "\n",
    "Question 1 Using lambda function\n",
    " \n",
    "q1=lambda a,b:(a**b)if a%2==0 and b%2==0 else (a+b)\n",
    "print(q1(2,3))\n"
   ]
  },
  {
   "cell_type": "code",
   "execution_count": null,
   "id": "660bf038",
   "metadata": {},
   "outputs": [],
   "source": [
    "import time\n",
    "##definig this decorator at the beginning so that in every program can be used to calculate start and end time\n",
    "def decorator(func):   \n",
    "    def wrapper(*args,**kwargs):\n",
    "        start_time = time.time()\n",
    "        print(f'\\nStart time: {start_time:.2f}')\n",
    "        func(*args, **kwargs)\n",
    "        end_time = time.time()\n",
    "        print(f'\\nEnd time: {end_time:.2f}')\n",
    "        execution_time = end_time - start_time\n",
    "        print(f\"Execution time: { execution_time:.2f} seconds\")\n",
    "    return wrapper\n",
    "#--------------------------------------\n",
    "#### Factorial of a number\n",
    "import math\n",
    "\n",
    "@decorator\n",
    "def factorial(num):\n",
    "    try:\n",
    "        factorial = math.factorial(int(num))\n",
    "        print(f'\\nFactorial of number {num} is {factorial}\\n')\n",
    "\n",
    "    except ValueError:\n",
    "        print( 'Invalid input. Enter a valid number.' )\n",
    "    \n",
    "    except Exception as e:\n",
    "        print(e)\n",
    "\n",
    "num =input('Enter number = ')\n",
    "factorial(num) ###calling function factorial \n",
    "#----------------------------------------------------------------------------------------------------\n",
    "\n",
    "### Fibonaccie Series\n",
    "@decorator\n",
    "def fibonacci(num):\n",
    "        n1,n2 = 0,1\n",
    "        sum = 0\n",
    "        if num<=0:\n",
    "            print('Enter number greater than zero')\n",
    "        else:\n",
    "            for i in range(num):\n",
    "                print(sum,end=' ')\n",
    "                n1 = n2\n",
    "                n2 = sum\n",
    "                sum = n1 + n2\n",
    "try:\n",
    "    num = int(input('Enter number to get the fibonacci series: '))\n",
    "    fibonacci(int(num))\n",
    "except:\n",
    "    print('Enter a valid number/non decimal number to get fibo. series.')\n",
    "#---------------------------------------------------------------------------\n",
    "\n",
    "## Temperature Conversion.\n",
    "@decorator\n",
    "def temperatue_Conversion():\n",
    "    def cel_to_fah():\n",
    "        C = float(input('Enter temperature in Celcius = '))\n",
    "        F = (C * 9/5) + 32\n",
    "        print(f'\\n{C}°C is equal to {F}°F')\n",
    "\n",
    "    def fah_to_Cel():\n",
    "        F = float(input('Enter temperature in Fahrenheit = '))\n",
    "        C = (F - 32) * 5/9\n",
    "        print(f'\\n{F}°F is equal to {C}°C')\n",
    "    while True:\n",
    "        print('\\nOptions')\n",
    "        print(' 1:- Convert Celcius to Fahrenheit')\n",
    "        print(' 2:- Convert Fahrenheit to Celcius')\n",
    "        print(' 3:- No thanks. \\n')\n",
    "        \n",
    "        choice = int(input('Enter your choice(1,2 or 3).='))\n",
    "        print(' ')\n",
    "        if choice==1:\n",
    "            cel_to_fah()\n",
    "        elif choice ==2:\n",
    "            fah_to_Cel()\n",
    "        elif choice==3:\n",
    "            break\n",
    "        else:\n",
    "            print('Enter valid choice.(1, 2 or 3). Try again')\n",
    "            break\n",
    "\n",
    "temperatue_Conversion()\n",
    "#------------------------------------------------------------------------------\n",
    "## Enter two num and Calculate sum or Exponent\n",
    "@decorator\n",
    "def cal_sum_or_expo():\n",
    "    try:\n",
    "        num = []\n",
    "        for i in range(2):\n",
    "            n = int(input(f'Enter num {i+1}= '))\n",
    "            num.append(n)    \n",
    "        c=0\n",
    "        for i in num: ###checking for both numbers in the list are even or not\n",
    "            if i%2 == 0:\n",
    "                c = c+1\n",
    "        # if c(count) is 2 the it will print exponent of numbers taken \n",
    "        # since both are even.\n",
    "        #if c(count) is 1 or 0 means that one or both the numbers taken are odd\n",
    "        # and returns the sum of two numbers in the list num=[]\n",
    "        if c==2:\n",
    "            exponent = pow(num[0],num[1])\n",
    "            print(f'\\nSince both numbers are even, exponent is:- {exponent}')\n",
    "        elif c==1 or c==0:\n",
    "            sum = num[0] + num[1]\n",
    "            print(f'\\nOne or both nums are odd. Hence SUM is:-  {sum}')\n",
    "        \n",
    "    except Exception as e:\n",
    "        print(e)\n",
    "\n",
    "cal_sum_or_expo()\n",
    "\n",
    "#---------------------------------------------------\n",
    "# using Lambda fucntion\n",
    "a=int(input('Enter 1st num:-  '))\n",
    "b=int(input('Enter 2nd number:- '))\n",
    "\n",
    "result= lambda a , b: (a%2==0 and b%2==0)  and f'Both are even. Exponent is {(a**b)}'or f'One of the no. is odd. Sum is {(a+b)}'\n",
    "\n",
    "print(f'\\n{result(a,b)}')\n",
    "##----------------------------------------------------"
   ]
  },
  {
   "cell_type": "code",
   "execution_count": null,
   "id": "c16eb8cf",
   "metadata": {},
   "outputs": [],
   "source": [
    "fruits = ['Apple','Mango','Orange','Cherry','Banana','kiwi','Lichi']\n",
    "\n",
    "### first condition print even place Fruits \n",
    "### second Condition Check Fruits name length is even or not\n",
    "\n",
    "## Simple Function\n",
    "\n",
    "## List Comp..\n"
   ]
  },
  {
   "cell_type": "code",
   "execution_count": 15,
   "id": "47fd7114",
   "metadata": {},
   "outputs": [
    {
     "name": "stdout",
     "output_type": "stream",
     "text": [
      "['Apple', 'Orange', 'Banana', 'Lichi']\n",
      "Orange\n",
      "Banana\n",
      "['Orange', 'Banana']\n"
     ]
    }
   ],
   "source": [
    "###  print even place Fruits\n",
    "# fruits = ['Apple','Mango','Orange','Cherry','Banana','kiwi','Lichi']\n",
    "# print(fruits[::2])\n",
    "\n",
    "# #Check Fruits name length is even or not\n",
    "# for value in fruits[::2]:\n",
    "#     if len(value) %2==0:\n",
    "#         print(value)\n",
    "\n",
    "# using list comprehension\n",
    "even = [value for value in fruits[::2] if len(value) %2==0]\n",
    "print(even)"
   ]
  },
  {
   "cell_type": "code",
   "execution_count": 16,
   "id": "cb6ceb57",
   "metadata": {},
   "outputs": [
    {
     "name": "stdout",
     "output_type": "stream",
     "text": [
      "0 Apple\n",
      "Apple\n",
      "1 Mango\n",
      "2 Orange\n",
      "Orange\n",
      "3 Cherry\n",
      "4 Banana\n",
      "Banana\n",
      "5 kiwi\n",
      "6 Lichi\n",
      "Lichi\n"
     ]
    },
    {
     "data": {
      "text/plain": [
       "['Orange', 'Banana']"
      ]
     },
     "execution_count": 16,
     "metadata": {},
     "output_type": "execute_result"
    }
   ],
   "source": [
    "fruits = ['Apple','Mango','Orange','Cherry','Banana','kiwi','Lichi']\n",
    "list1 = []\n",
    "def check(fruits):\n",
    "    for i,name in enumerate(fruits):\n",
    "        print(i,name)\n",
    "        if i%2==0:\n",
    "            print(name)\n",
    "            if len(name)%2==0:\n",
    "                list1.append(name)\n",
    "    return list1\n",
    "check(fruits)"
   ]
  },
  {
   "cell_type": "code",
   "execution_count": 9,
   "id": "9a584ff6",
   "metadata": {},
   "outputs": [
    {
     "name": "stdout",
     "output_type": "stream",
     "text": [
      "Enter num 1= 4\n",
      "Enter num 2= 5\n",
      "\n",
      "One or both nums are odd. Hence SUM is:-  9\n"
     ]
    }
   ],
   "source": [
    "def cal_sum_or_expo():\n",
    "    try:\n",
    "        num = []\n",
    "        for i in range(2):\n",
    "            n = int(input(f'Enter num {i+1}= '))\n",
    "            num.append(n)    \n",
    "        c=0\n",
    "        for i in num: ###checking for both numbers in the list are even or not\n",
    "            if i%2 == 0:\n",
    "                c = c+1\n",
    "        # if c(count) is 2 the it will print exponent of numbers taken \n",
    "        # since both are even.\n",
    "        #if c(count) is 1 or 0 means that one or both the numbers taken are odd\n",
    "        # and returns the sum of two numbers in the list num=[]\n",
    "        if c==2:\n",
    "            exponent = pow(num[0],num[1])\n",
    "            print(f'\\nSince both numbers are even, exponent is:- {exponent}')\n",
    "        elif c==1 or c==0:\n",
    "            sum = num[0] + num[1]\n",
    "            print(f'\\nOne or both nums are odd. Hence SUM is:-  {sum}')\n",
    "        \n",
    "    except Exception as e:\n",
    "        print(e)\n",
    "\n",
    "cal_sum_or_expo()"
   ]
  },
  {
   "cell_type": "code",
   "execution_count": 10,
   "id": "56c58205",
   "metadata": {},
   "outputs": [
    {
     "name": "stdout",
     "output_type": "stream",
     "text": [
      "Enter 1st num:-  5\n",
      "Enter 2nd number:- 5\n",
      "\n",
      "One of the no. is odd. Sum is 10\n"
     ]
    }
   ],
   "source": [
    "#return exponent if both numbers are even and sum if any one of them is odd.\n",
    "\n",
    "### simple Func\n",
    "\n",
    "## Lambda  Func\n",
    "\n",
    "a=int(input('Enter 1st num:-  '))\n",
    "b=int(input('Enter 2nd number:- '))\n",
    "\n",
    "result= lambda a , b: (a%2==0 and b%2==0)  and f'Both are even. Exponent is {(a**b)}'or f'One of the no. is odd. Sum is {(a+b)}'\n",
    "\n",
    "print(f'\\n{result(a,b)}')"
   ]
  },
  {
   "cell_type": "code",
   "execution_count": 14,
   "id": "6772c75d",
   "metadata": {},
   "outputs": [
    {
     "name": "stdout",
     "output_type": "stream",
     "text": [
      "5\n"
     ]
    }
   ],
   "source": [
    "# def q1(a,b):\n",
    "#     if a%2==0 and b%2==0:\n",
    "#         print(a**b)\n",
    "#     else:\n",
    "#         print(a+b)\n",
    "        \n",
    "# q1(2,5)\n",
    "\n",
    "# Question 1 Using lambda function\n",
    " \n",
    "q1=lambda a,b:(a**b)if a%2==0 and b%2==0 else (a+b)\n",
    "print(q1(2,3))\n"
   ]
  },
  {
   "cell_type": "code",
   "execution_count": 24,
   "id": "ff7cf3a2",
   "metadata": {},
   "outputs": [
    {
     "name": "stdout",
     "output_type": "stream",
     "text": [
      "{'az': {'a': 0}, 'bz': {'b': 1}, 'cz': {'c': 2}}\n"
     ]
    }
   ],
   "source": [
    "a = {\"a\":0,\"b\":1,\"c\":2}\n",
    "b = {\"az\":0,\"bz\":1,\"cz\":2}\n",
    "\n",
    "##  op = {\"az\":{\"a\":0},\"bz\":{\"b\":1},\"cz\":{\"c\":2}}\n",
    "\n",
    "op = {}\n",
    "for b_key,b_value in b.items():\n",
    "#     op[b_key] = {}\n",
    "    for a_key, a_value in a.items():\n",
    "        if b_value == a_value:\n",
    "#         print()\n",
    "           op[b_key]={a_key:a_value}\n",
    "\n",
    "print(op)"
   ]
  },
  {
   "cell_type": "code",
   "execution_count": 29,
   "id": "98b5f31b",
   "metadata": {},
   "outputs": [
    {
     "name": "stdout",
     "output_type": "stream",
     "text": [
      "{'az': {'a': 0}, 'bz': {'b': 1}, 'cz': {'c': 2}}\n"
     ]
    }
   ],
   "source": [
    "### Dictionary Compression\n",
    "a = {\"a\": 0, \"b\": 1, \"c\": 2}\n",
    "b = {\"az\": 0, \"bz\": 1, \"cz\": 2}\n",
    "##  op = {\"az\":{\"a\":0},\"bz\":{\"b\":1},\"cz\":{\"c\":2}}\n",
    "\n",
    "op = {key_b: {key_a:value_a} for key_b,value_b in b.items() for key_a, value_a in a.items() if value_b == value_a}\n",
    "print(op)"
   ]
  },
  {
   "cell_type": "code",
   "execution_count": 18,
   "id": "acc88ad9",
   "metadata": {},
   "outputs": [
    {
     "name": "stdout",
     "output_type": "stream",
     "text": [
      "{'az': {'a': 0}, 'bz': {'b': 1}, 'cz': {'c': 2}}\n"
     ]
    }
   ],
   "source": [
    "a = {\"a\": 0, \"b\": 1, \"c\": 2}\n",
    "b = {\"az\": 0, \"bz\": 1, \"cz\": 2}\n",
    "\n",
    "op = {}\n",
    "\n",
    "for key_b, value_b in b.items():\n",
    "    op[key_b] = {key_a: value_a for key_a, value_a in a.items() if key_a[0] == key_b[0]}\n",
    "\n",
    "print(op)"
   ]
  },
  {
   "cell_type": "code",
   "execution_count": 32,
   "id": "603bb0d7",
   "metadata": {},
   "outputs": [
    {
     "name": "stdout",
     "output_type": "stream",
     "text": [
      "apple amit\n",
      "mango tina\n",
      "grapes haian\n"
     ]
    }
   ],
   "source": [
    "### zip\n",
    "\n",
    "fruits = ['apple','mango','grapes']\n",
    "name = ['amit','tina','haian']\n",
    "\n",
    "# (apple,amit)(mango,tina)\n",
    "for fru,nam in zip(fruits,name):\n",
    "    print(fru,nam)\n",
    "    "
   ]
  },
  {
   "cell_type": "code",
   "execution_count": 35,
   "id": "5b06e8aa",
   "metadata": {},
   "outputs": [
    {
     "name": "stdout",
     "output_type": "stream",
     "text": [
      "[0.0, 20.0, 30.0, 40.0, 50.0]\n"
     ]
    },
    {
     "ename": "TypeError",
     "evalue": "map() must have at least two arguments.",
     "output_type": "error",
     "traceback": [
      "\u001b[1;31m---------------------------------------------------------------------------\u001b[0m",
      "\u001b[1;31mTypeError\u001b[0m                                 Traceback (most recent call last)",
      "Input \u001b[1;32mIn [35]\u001b[0m, in \u001b[0;36m<cell line: 16>\u001b[1;34m()\u001b[0m\n\u001b[0;32m     13\u001b[0m     list1\u001b[38;5;241m.\u001b[39mappend(value)\n\u001b[0;32m     14\u001b[0m \u001b[38;5;28mprint\u001b[39m(list1)\n\u001b[1;32m---> 16\u001b[0m lsit1 \u001b[38;5;241m=\u001b[39m \u001b[38;5;28mlist\u001b[39m(\u001b[38;5;28;43mmap\u001b[39;49m\u001b[43m(\u001b[49m\u001b[43mfahrenheit_to_celsius\u001b[49m\u001b[43m)\u001b[49m)\n\u001b[0;32m     17\u001b[0m \u001b[38;5;28mprint\u001b[39m(lsit1)\n",
      "\u001b[1;31mTypeError\u001b[0m: map() must have at least two arguments."
     ]
    }
   ],
   "source": [
    "## map  ## filter ### Iterables ## Iterators\n",
    "\n",
    "## map \n",
    "\n",
    "fahrenheit_temperatures = [32, 68, 86, 104, 122]\n",
    "\n",
    "def fahrenheit_to_celsius(fahrenheit):\n",
    "    return (fahrenheit - 32) * 5/9\n",
    "\n",
    "list1 = []\n",
    "for i in fahrenheit_temperatures:\n",
    "    value = fahrenheit_to_celsius(i)\n",
    "    list1.append(value)\n",
    "print(list1)\n",
    "\n",
    "lsit1 = list(map(fahrenheit_to_celsius,fahrenheit_temperature))\n",
    "print(lsit1)\n"
   ]
  },
  {
   "cell_type": "code",
   "execution_count": 44,
   "id": "33e44f28",
   "metadata": {},
   "outputs": [
    {
     "name": "stdout",
     "output_type": "stream",
     "text": [
      "[22, 18, 25, 30, 20]\n"
     ]
    }
   ],
   "source": [
    "## filter\n",
    "\n",
    "# List of ages\n",
    "ages = [16, 22, 18, 25, 15, 30, 17, 20]\n",
    "\n",
    "# Function to check if an age is eligible for voting\n",
    "def is_eligible_for_voting(age):\n",
    "    if age >= 18:\n",
    "        return age\n",
    "\n",
    "# Use filter() to filter eligible ages\n",
    "eligible_ages = filter(is_eligible_for_voting, ages)\n",
    "\n",
    "# Convert the result to a list (or iterate through it)\n",
    "eligible_ages_list = list(eligible_ages)\n",
    "\n",
    "# Output the eligible ages\n",
    "print(eligible_ages_list)\n",
    "# Output: [22, 18, 25, 30, 20]\n"
   ]
  },
  {
   "cell_type": "markdown",
   "id": "195474af",
   "metadata": {},
   "source": [
    "map() is used for transforming elements of an iterable.\n",
    "\n",
    "filter() is used for selecting elements from an iterable based on a condition."
   ]
  },
  {
   "cell_type": "code",
   "execution_count": 45,
   "id": "0d93f1bf",
   "metadata": {},
   "outputs": [
    {
     "data": {
      "text/plain": [
       "[1, 2, 3, 4, 5]"
      ]
     },
     "execution_count": 45,
     "metadata": {},
     "output_type": "execute_result"
    }
   ],
   "source": [
    "### Iterables ## Iterators\n",
    "\n",
    "def num(lst):\n",
    "    for i in lst:\n",
    "        return lst\n",
    "    \n",
    "lst=[1,2,3,4,5]\n",
    "num(lst)"
   ]
  },
  {
   "cell_type": "code",
   "execution_count": 51,
   "id": "4bde53e6",
   "metadata": {},
   "outputs": [
    {
     "data": {
      "text/plain": [
       "1"
      ]
     },
     "execution_count": 51,
     "metadata": {},
     "output_type": "execute_result"
    }
   ],
   "source": [
    "val = iter(lst)\n",
    "\n",
    "next(va"
   ]
  },
  {
   "cell_type": "code",
   "execution_count": 52,
   "id": "2d89cbee",
   "metadata": {},
   "outputs": [
    {
     "data": {
      "text/plain": [
       "2"
      ]
     },
     "execution_count": 52,
     "metadata": {},
     "output_type": "execute_result"
    }
   ],
   "source": [
    "next(val)"
   ]
  },
  {
   "cell_type": "code",
   "execution_count": 53,
   "id": "765ca4c7",
   "metadata": {},
   "outputs": [
    {
     "data": {
      "text/plain": [
       "3"
      ]
     },
     "execution_count": 53,
     "metadata": {},
     "output_type": "execute_result"
    }
   ],
   "source": [
    "next(val)"
   ]
  },
  {
   "cell_type": "code",
   "execution_count": 54,
   "id": "b6b94e7e",
   "metadata": {},
   "outputs": [
    {
     "data": {
      "text/plain": [
       "4"
      ]
     },
     "execution_count": 54,
     "metadata": {},
     "output_type": "execute_result"
    }
   ],
   "source": [
    "next(val)"
   ]
  },
  {
   "cell_type": "code",
   "execution_count": 55,
   "id": "30356974",
   "metadata": {},
   "outputs": [
    {
     "data": {
      "text/plain": [
       "5"
      ]
     },
     "execution_count": 55,
     "metadata": {},
     "output_type": "execute_result"
    }
   ],
   "source": [
    "next(val)"
   ]
  },
  {
   "cell_type": "code",
   "execution_count": 56,
   "id": "3fa6ae3d",
   "metadata": {},
   "outputs": [
    {
     "ename": "StopIteration",
     "evalue": "",
     "output_type": "error",
     "traceback": [
      "\u001b[1;31m---------------------------------------------------------------------------\u001b[0m",
      "\u001b[1;31mStopIteration\u001b[0m                             Traceback (most recent call last)",
      "Input \u001b[1;32mIn [56]\u001b[0m, in \u001b[0;36m<cell line: 1>\u001b[1;34m()\u001b[0m\n\u001b[1;32m----> 1\u001b[0m \u001b[38;5;28;43mnext\u001b[39;49m\u001b[43m(\u001b[49m\u001b[43mval\u001b[49m\u001b[43m)\u001b[49m\n",
      "\u001b[1;31mStopIteration\u001b[0m: "
     ]
    }
   ],
   "source": [
    "next(val)"
   ]
  },
  {
   "cell_type": "code",
   "execution_count": 57,
   "id": "0c1bc7df",
   "metadata": {},
   "outputs": [
    {
     "ename": "SyntaxError",
     "evalue": "invalid syntax (3263574624.py, line 1)",
     "output_type": "error",
     "traceback": [
      "\u001b[1;36m  Input \u001b[1;32mIn [57]\u001b[1;36m\u001b[0m\n\u001b[1;33m    Tuesday = 7:30\u001b[0m\n\u001b[1;37m               ^\u001b[0m\n\u001b[1;31mSyntaxError\u001b[0m\u001b[1;31m:\u001b[0m invalid syntax\n"
     ]
    }
   ],
   "source": [
    "Tuesday = 7:30 \n",
    "Wedneday = 7:30\n",
    "Friday = 7:30\n",
    "    "
   ]
  },
  {
   "cell_type": "markdown",
   "id": "930e37eb",
   "metadata": {},
   "source": [
    " where we have two lists of data: one containing names of students and another containing their corresponding exam scores. We want to create a dictionary that maps the names of students to their scores but only include students who scored above a certain threshold. We will use map(), filter(), zip(), and dictionary comprehension to achieve this.\n",
    " \n",
    " \n",
    "student_names = [\"Alice\", \"Bob\", \"Charlie\", \"David\", \"Eve\"]\n",
    "\n",
    "exam_scores = [85, 92, 78, 65, 90]\n",
    "\n",
    "threshold_score = 80\n",
    "\n",
    "op = {'Alice': 85, 'Bob': 92, 'Eve': 90}\n"
   ]
  },
  {
   "cell_type": "code",
   "execution_count": 1,
   "id": "52e78080",
   "metadata": {},
   "outputs": [
    {
     "name": "stdout",
     "output_type": "stream",
     "text": [
      "{'Alice': 85, 'Bob': 92, 'Charlie': 78, 'David': 65, 'Eve': 90}\n",
      "{'Alice': 85, 'Bob': 92, 'Eve': 90}\n"
     ]
    }
   ],
   "source": [
    "## first approach \n",
    "\n",
    "def my_filter(pair):\n",
    "    global threshold_score\n",
    "    key,value = pair\n",
    "    if value > threshold_score:\n",
    "        return True\n",
    "    else:\n",
    "        return False\n",
    "    \n",
    "student_names = [\"Alice\",\"Bob\",\"Charlie\",\"David\",\"Eve\"]\n",
    "exam_scores = [85,92,78,65,90]\n",
    "threshold_score = 80\n",
    "\n",
    "new_dict = {}\n",
    "\n",
    "for i in range(len(student_names)):\n",
    "    new_dict[student_names[i]] = exam_scores[i]\n",
    "print(new_dict)\n",
    "\n",
    "op = dict(filter(my_filter,new_dict.items()))\n",
    "print(op)\n",
    "    "
   ]
  },
  {
   "cell_type": "code",
   "execution_count": 5,
   "id": "c2febaba",
   "metadata": {},
   "outputs": [
    {
     "name": "stdout",
     "output_type": "stream",
     "text": [
      "{'Alice': 85, 'Bob': 92, 'Charlie': 78, 'David': 65, 'Eve': 90}\n",
      "dict_items([('Alice', 85), ('Bob', 92), ('Charlie', 78), ('David', 65), ('Eve', 90)])\n"
     ]
    }
   ],
   "source": [
    "student_names = [\"Alice\",\"Bob\",\"Charlie\",\"David\",\"Eve\"]\n",
    "exam_scores = [85,92,78,65,90]\n",
    "\n",
    "new_dict = {}\n",
    "\n",
    "for i in range(len(student_names)):\n",
    "    new_dict[student_names[i]] = exam_scores[i]\n",
    "print(new_dict)\n",
    "print(new_dict.items())"
   ]
  },
  {
   "cell_type": "code",
   "execution_count": 24,
   "id": "c9066d7e",
   "metadata": {},
   "outputs": [
    {
     "name": "stdout",
     "output_type": "stream",
     "text": [
      "[('Alice', 85), ('Bob', 92), ('Charlie', 78), ('David', 65), ('Eve', 90)]\n"
     ]
    }
   ],
   "source": [
    "student_names = [\"Alice\",\"Bob\",\"Charlie\",\"David\",\"Eve\"]\n",
    "exam_score = [85,92,78,65,90]\n",
    "threshold_score = 80\n",
    "##zip\n",
    "\n",
    "# for student,scores in zip(student_names,exam_score):\n",
    "#     print(student,scores)\n",
    "\n",
    "\n",
    "#student_scores = zip(student_names,exam_score)\n",
    "#print(student_names,exam_score)\n",
    "\n",
    "\n",
    "\n",
    "student_names = [\"Alice\",\"Bob\",\"Charlie\",\"David\",\"Eve\"]\n",
    "exam_score = [85,92,78,65,90]\n",
    "threshold_score = 80\n",
    "\n",
    "student =zip(student_names,exam_score)\n",
    "print(list(student))\n",
    "    \n",
    "\n",
    "# eligible_students=[]\n",
    "\n",
    "def eligible_student_names(student):\n",
    "    print(student)\n",
    "    for i in student:\n",
    "        print(i,'bhsbdhbs')\n",
    "#     if exam_score >= threshold_score:\n",
    "#         return exam_score\n",
    "#         student_eligible_names = []\n",
    "        \n",
    "        \n",
    "student_eligible = filter(eligible_student_names,student)\n",
    "\n",
    "# print(list(student_eligible))\n",
    "#student_names = list(map(eligible_student_name,exam_score))\n",
    "#print (student_names)\n",
    "\n",
    "\n"
   ]
  },
  {
   "cell_type": "code",
   "execution_count": 34,
   "id": "28f3fead",
   "metadata": {},
   "outputs": [
    {
     "name": "stdout",
     "output_type": "stream",
     "text": [
      "<zip object at 0x000001A838CA3580>\n",
      "<filter object at 0x000001A838F35520>\n",
      "{'Alice': 85, 'Bob': 92, 'Eve': 90}\n"
     ]
    }
   ],
   "source": [
    "student_names = [\"Alice\",\"Bob\",\"Charlie\",\"David\",\"Eve\"]\n",
    "exam_score = [85,92,78,65,90]\n",
    "threshold_score = 80\n",
    "\n",
    "student_data = zip(student_names,exam_score)\n",
    "print(student_data)\n",
    "# for i in student_data:\n",
    "#     print(i[0])\n",
    "#     print(i[1])\n",
    "\n",
    "filtered_data = filter(lambda x:x[1]> threshold_score ,student_data)\n",
    "print(filtered_data)\n",
    "\n",
    "# for name,score in filtered_data:\n",
    "#     print(name,score)\n",
    "\n",
    "student_scores = {name:score for name,score in filtered_data}\n",
    "print(student_scores)\n"
   ]
  },
  {
   "cell_type": "code",
   "execution_count": 54,
   "id": "f5f47e22",
   "metadata": {},
   "outputs": [
    {
     "name": "stdout",
     "output_type": "stream",
     "text": [
      "<filter object at 0x000001A838D08FA0>\n",
      "{'Alice': 85, 'Bob': 92, 'Eve': 90}\n"
     ]
    }
   ],
   "source": [
    "student_names = [\"Alice\",\"Bob\",\"Charlie\",\"David\",\"Eve\"]\n",
    "exam_score = [85,92,78,65,90]\n",
    "threshold_score = 80\n",
    "\n",
    "student_data = zip(student_names,exam_score)\n",
    "# print(student_data)\n",
    "\n",
    "# for i in student_data:\n",
    "#     print(i[0])\n",
    "#     print(i[1])\n",
    "\n",
    "def filter_student(student_data):\n",
    "    name ,score = student_data\n",
    "    return score > threshold_score \n",
    "\n",
    "\n",
    "filtered_data = filter(filter_student,student_data)\n",
    "print(filtered_data)\n",
    "\n",
    "# for name,score in filtered_data:\n",
    "#     print(name,score)\n",
    "\n",
    "student_scores = {name:score for name,score in filtered_data}\n",
    "print(student_scores)\n"
   ]
  },
  {
   "cell_type": "code",
   "execution_count": 63,
   "id": "ac9c1819",
   "metadata": {},
   "outputs": [],
   "source": [
    "### board size 10*10\n",
    "\n",
    "# def board_size(range_num):\n",
    "   \n",
    "# #     print(range_num)\n",
    "#     board_data = {\n",
    "#         'Square': list(range(1,range_num+1))\n",
    "#     }\n",
    "# #     print(board_data)\n",
    "#     board = pd.DataFrame(board_data)\n",
    "#     print(board)\n",
    "#     return board\n",
    "\n",
    "### random_dice\n",
    "\n",
    "# def roll_dice():\n",
    "#     return(random.randint(1,6))\n",
    "\n",
    "### playgame = 4 player jo sbse phle 100 par karega  use jitha dena h\n",
    "\n"
   ]
  },
  {
   "cell_type": "code",
   "execution_count": null,
   "id": "170f737f",
   "metadata": {},
   "outputs": [],
   "source": []
  },
  {
   "cell_type": "code",
   "execution_count": 1,
   "id": "198e50c9",
   "metadata": {},
   "outputs": [
    {
     "name": "stdout",
     "output_type": "stream",
     "text": [
      "Enter number of players: 4\n",
      "[[0], [0], [0], [0]]\n",
      "[2, [0], [0], [0]]\n"
     ]
    },
    {
     "ename": "TypeError",
     "evalue": "'int' object is not subscriptable",
     "output_type": "error",
     "traceback": [
      "\u001b[1;31m---------------------------------------------------------------------------\u001b[0m",
      "\u001b[1;31mTypeError\u001b[0m                                 Traceback (most recent call last)",
      "Input \u001b[1;32mIn [1]\u001b[0m, in \u001b[0;36m<cell line: 18>\u001b[1;34m()\u001b[0m\n\u001b[0;32m     20\u001b[0m players_score[i] \u001b[38;5;241m=\u001b[39m players_score[i][\u001b[38;5;241m0\u001b[39m] \u001b[38;5;241m+\u001b[39m dice\n\u001b[0;32m     21\u001b[0m \u001b[38;5;28mprint\u001b[39m(players_score)\n\u001b[1;32m---> 23\u001b[0m \u001b[38;5;28;01mif\u001b[39;00m \u001b[43mplayers_score\u001b[49m\u001b[43m[\u001b[49m\u001b[43mi\u001b[49m\u001b[43m]\u001b[49m\u001b[43m[\u001b[49m\u001b[38;5;241;43m0\u001b[39;49m\u001b[43m]\u001b[49m \u001b[38;5;241m>\u001b[39m\u001b[38;5;241m=\u001b[39m \u001b[38;5;241m100\u001b[39m:\n\u001b[0;32m     24\u001b[0m     \u001b[38;5;28mprint\u001b[39m(\u001b[38;5;124mf\u001b[39m\u001b[38;5;124m\"\u001b[39m\u001b[38;5;124mPlayer \u001b[39m\u001b[38;5;132;01m{\u001b[39;00mi \u001b[38;5;241m+\u001b[39m \u001b[38;5;241m1\u001b[39m\u001b[38;5;132;01m}\u001b[39;00m\u001b[38;5;124m wins the game!\u001b[39m\u001b[38;5;124m\"\u001b[39m)\n\u001b[0;32m     25\u001b[0m exit()\n",
      "\u001b[1;31mTypeError\u001b[0m: 'int' object is not subscriptable"
     ]
    }
   ],
   "source": [
    "import numpy as np\n",
    "#this function return any random value from 1 to 6  but not 7\n",
    "\n",
    "def roll_dice():\n",
    "    return np.random.randint(1,7)\n",
    "                                \n",
    "x = int(input('Enter number of players: '))\n",
    "\n",
    "#initialize an empty list to store score of players\n",
    "players_score=[]\n",
    "\n",
    "for i in range(x):\n",
    "    players_score.append([0])#adding zero score to each players list then add new value\n",
    "    \n",
    "print(players_score)  #printing to check \n",
    "\n",
    "while True:\n",
    "    for i in range(len(players_score)):\n",
    "        dice = roll_dice()\n",
    "        players_score[i] = players_score[i][0] + dice\n",
    "        print(players_score)\n",
    "          \n",
    "        \n",
    "        if players_score[i][0] >= 100:\n",
    "            print(f\"Player {i + 1} wins the game!\")\n",
    "        exit()"
   ]
  },
  {
   "cell_type": "markdown",
   "id": "b7bad06b",
   "metadata": {},
   "source": [
    "What can be the keys of a dictionary in Python ?\n",
    "\n",
    "Ans :- uniquness & Imumutable\n",
    "\n",
    "What are Cpython ?\n",
    "\n",
    "Ans :- Python is an Interpreted language. its code is first interpreted by anothe program and then compiled into something called bytecode.\n",
    "\n",
    "Cpython is the implemtation of python whose bytecode is in C programming language.\n",
    "\n",
    "What are LEGB in python?\n",
    "\n",
    "***How does python handle memory managemengt?\n",
    "\n",
    "Ans :- python automatically allocate and dellocate memory \n",
    "\n",
    "a = 5\n",
    "\n",
    "Ram\n",
    "\n",
    "Stack and Private Heap\n",
    "\n",
    "\n",
    "Private Heap = Type,value,refrence_count \n",
    "Stack = \n",
    "\n",
    "garbage collector = \n",
    "\n",
    "What is Lambda Function?\n",
    "\n",
    "Ans - AnonymousFunction and it use for short period of time .\n",
    "\n",
    "what is shallow copy and deep copy ?\n",
    "\n",
    "Ans :- \n"
   ]
  },
  {
   "cell_type": "code",
   "execution_count": 10,
   "id": "0d06b8cb",
   "metadata": {},
   "outputs": [
    {
     "name": "stdout",
     "output_type": "stream",
     "text": [
      "[[1, 2, 3], [4, 5, 6]]\n",
      "[[100, 2, 3], [4, 5, 6]]\n"
     ]
    }
   ],
   "source": [
    "## shallow copy and deep copy ?\n",
    "\n",
    "import copy\n",
    "\n",
    "original_list = [[1, 2, 3], [4, 5, 6]] \n",
    "\n",
    "\n",
    "# shallow_copied_list = copy.copy(original_list)\n",
    "\n",
    "\n",
    "deep_copied_list = copy.deepcopy(original_list)\n",
    "\n",
    "# Modify a nested element in the shallow copy\n",
    "deep_copied_list[0][0] = 100\n",
    "# shallow_copied_list[1][1] = 1200\n",
    "\n",
    "print(original_list)       \n",
    "# [[100, 2, 3], [4, 5, 6]]\n",
    "# print(shallow_copied_list)    # [[100, 2, 3], [4, 5, 6]]\n",
    "print(deep_copied_list)       # [[1, 2, 3], [4, 5, 6]]\n"
   ]
  },
  {
   "cell_type": "code",
   "execution_count": 14,
   "id": "0246ea27",
   "metadata": {},
   "outputs": [
    {
     "name": "stdout",
     "output_type": "stream",
     "text": [
      "    Square\n",
      "0        1\n",
      "1        2\n",
      "2        3\n",
      "3        4\n",
      "4        5\n",
      "..     ...\n",
      "95      96\n",
      "96      97\n",
      "97      98\n",
      "98      99\n",
      "99     100\n",
      "\n",
      "[100 rows x 1 columns]\n"
     ]
    },
    {
     "data": {
      "text/html": [
       "<div>\n",
       "<style scoped>\n",
       "    .dataframe tbody tr th:only-of-type {\n",
       "        vertical-align: middle;\n",
       "    }\n",
       "\n",
       "    .dataframe tbody tr th {\n",
       "        vertical-align: top;\n",
       "    }\n",
       "\n",
       "    .dataframe thead th {\n",
       "        text-align: right;\n",
       "    }\n",
       "</style>\n",
       "<table border=\"1\" class=\"dataframe\">\n",
       "  <thead>\n",
       "    <tr style=\"text-align: right;\">\n",
       "      <th></th>\n",
       "      <th>Square</th>\n",
       "    </tr>\n",
       "  </thead>\n",
       "  <tbody>\n",
       "    <tr>\n",
       "      <th>0</th>\n",
       "      <td>1</td>\n",
       "    </tr>\n",
       "    <tr>\n",
       "      <th>1</th>\n",
       "      <td>2</td>\n",
       "    </tr>\n",
       "    <tr>\n",
       "      <th>2</th>\n",
       "      <td>3</td>\n",
       "    </tr>\n",
       "    <tr>\n",
       "      <th>3</th>\n",
       "      <td>4</td>\n",
       "    </tr>\n",
       "    <tr>\n",
       "      <th>4</th>\n",
       "      <td>5</td>\n",
       "    </tr>\n",
       "    <tr>\n",
       "      <th>...</th>\n",
       "      <td>...</td>\n",
       "    </tr>\n",
       "    <tr>\n",
       "      <th>95</th>\n",
       "      <td>96</td>\n",
       "    </tr>\n",
       "    <tr>\n",
       "      <th>96</th>\n",
       "      <td>97</td>\n",
       "    </tr>\n",
       "    <tr>\n",
       "      <th>97</th>\n",
       "      <td>98</td>\n",
       "    </tr>\n",
       "    <tr>\n",
       "      <th>98</th>\n",
       "      <td>99</td>\n",
       "    </tr>\n",
       "    <tr>\n",
       "      <th>99</th>\n",
       "      <td>100</td>\n",
       "    </tr>\n",
       "  </tbody>\n",
       "</table>\n",
       "<p>100 rows × 1 columns</p>\n",
       "</div>"
      ],
      "text/plain": [
       "    Square\n",
       "0        1\n",
       "1        2\n",
       "2        3\n",
       "3        4\n",
       "4        5\n",
       "..     ...\n",
       "95      96\n",
       "96      97\n",
       "97      98\n",
       "98      99\n",
       "99     100\n",
       "\n",
       "[100 rows x 1 columns]"
      ]
     },
     "execution_count": 14,
     "metadata": {},
     "output_type": "execute_result"
    }
   ],
   "source": [
    "import pandas as pd\n",
    "def board_size(range_num = 100):\n",
    "   \n",
    "#     print(range_num)\n",
    "    board_data = {\n",
    "        'Square': list(range(1,range_num+1))\n",
    "    }\n",
    "#     print(board_data)\n",
    "    board = pd.DataFrame(board_data)\n",
    "    print(board)\n",
    "    return board\n",
    "\n",
    "board_size()"
   ]
  },
  {
   "cell_type": "code",
   "execution_count": null,
   "id": "a0923065",
   "metadata": {},
   "outputs": [],
   "source": [
    "#### python developer :- 1) Automation enginner 2) Flask and Django Developer\n",
    "\n",
    "1) Html - \n",
    "2) Css - Tailwind Framework\n",
    "3) Python - \n",
    "4) Flask -\n",
    "5) Postgres and MongoDB\n",
    "6) Networking \n",
    "\n",
    "## Data Analysist \n",
    "\n",
    "1) Python \n",
    "2) Numpy\n",
    "3) Pandas\n",
    "4) EDA \n",
    "4) Sk Learn Machine Learning -- Project  regreesion model  decis\n",
    "4) Pipeline\n",
    "5) Statitics\n",
    "6) Probability\n",
    "7) Maths \n",
    "\n",
    "8) deployments : -Docker ,\n",
    "\n",
    "9) Neural Networks \n",
    "10) NLP :-       \n",
    "11) Pythorch and Tensorflow \n",
    "\n"
   ]
  }
 ],
 "metadata": {
  "kernelspec": {
   "display_name": "Python 3 (ipykernel)",
   "language": "python",
   "name": "python3"
  },
  "language_info": {
   "codemirror_mode": {
    "name": "ipython",
    "version": 3
   },
   "file_extension": ".py",
   "mimetype": "text/x-python",
   "name": "python",
   "nbconvert_exporter": "python",
   "pygments_lexer": "ipython3",
   "version": "3.9.12"
  }
 },
 "nbformat": 4,
 "nbformat_minor": 5
}
