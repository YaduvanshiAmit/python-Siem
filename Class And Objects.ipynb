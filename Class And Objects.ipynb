{
 "cells": [
  {
   "cell_type": "markdown",
   "id": "a7953cfc",
   "metadata": {},
   "source": [
    "In Python, a class is a blueprint for creating objects (instances) that have similar properties and behaviors.\n",
    "\n",
    "It defines a set of attributes (variables) and methods (functions) that the objects created from the class can possess.\n",
    "\n",
    "\n",
    "Classes allow you to encapsulate data and functionality into reusable units, promoting code organization and modularit\n"
   ]
  },
  {
   "cell_type": "code",
   "execution_count": 7,
   "id": "2de824e2",
   "metadata": {},
   "outputs": [
    {
     "ename": "TypeError",
     "evalue": "car() missing 3 required positional arguments: 'brand', 'model', and 'color'",
     "output_type": "error",
     "traceback": [
      "\u001b[1;31m---------------------------------------------------------------------------\u001b[0m",
      "\u001b[1;31mTypeError\u001b[0m                                 Traceback (most recent call last)",
      "Input \u001b[1;32mIn [7]\u001b[0m, in \u001b[0;36m<cell line: 4>\u001b[1;34m()\u001b[0m\n\u001b[0;32m      1\u001b[0m \u001b[38;5;28;01mdef\u001b[39;00m \u001b[38;5;21mcar\u001b[39m(brand,model,color,wheels\u001b[38;5;241m=\u001b[39m\u001b[38;5;241m4\u001b[39m,):\n\u001b[0;32m      2\u001b[0m     \u001b[38;5;28;01mpass\u001b[39;00m\n\u001b[1;32m----> 4\u001b[0m \u001b[43mcar\u001b[49m\u001b[43m(\u001b[49m\u001b[43m)\u001b[49m\n",
      "\u001b[1;31mTypeError\u001b[0m: car() missing 3 required positional arguments: 'brand', 'model', and 'color'"
     ]
    }
   ],
   "source": [
    "def car(brand,model,color,wheels=4,):\n",
    "    pass\n",
    "\n",
    "car()\n"
   ]
  },
  {
   "cell_type": "code",
   "execution_count": 14,
   "id": "d44e0cc6",
   "metadata": {},
   "outputs": [],
   "source": [
    "class Car:\n",
    "    wheels = 4 ## Class Variable\n",
    "    ## Constructer Method\n",
    "    def __init__(self,brand,model,color):\n",
    "        ## instance attribute\n",
    "        self.brand = brand\n",
    "        self.model = model\n",
    "        self.color = color\n",
    "        \n",
    "    ## Method\n",
    "    def get_description(self):\n",
    "        return f\"This is a {self.brand} {self.color} {self.model}\"\n",
    "    def paint(self,new_color):\n",
    "        self.color = new_color\n",
    "        print(f\"This car is now {self.color}\")\n",
    "        \n",
    "    \n"
   ]
  },
  {
   "cell_type": "code",
   "execution_count": 17,
   "id": "236736c9",
   "metadata": {},
   "outputs": [],
   "source": [
    "## car1,car2,car3 is an object\n",
    "car1 = Car('honda','Camry','blue')\n",
    "car2 = Car('audi','Model s','Black')\n",
    "car3 = Car('Tesla','Model 2020','White')"
   ]
  },
  {
   "cell_type": "code",
   "execution_count": 18,
   "id": "1d096b2e",
   "metadata": {},
   "outputs": [
    {
     "data": {
      "text/plain": [
       "'blue'"
      ]
     },
     "execution_count": 18,
     "metadata": {},
     "output_type": "execute_result"
    }
   ],
   "source": [
    "car1.color"
   ]
  },
  {
   "cell_type": "code",
   "execution_count": 19,
   "id": "009e77bb",
   "metadata": {},
   "outputs": [
    {
     "data": {
      "text/plain": [
       "'Black'"
      ]
     },
     "execution_count": 19,
     "metadata": {},
     "output_type": "execute_result"
    }
   ],
   "source": [
    "car2.color"
   ]
  },
  {
   "cell_type": "code",
   "execution_count": 20,
   "id": "58679a16",
   "metadata": {},
   "outputs": [
    {
     "data": {
      "text/plain": [
       "'White'"
      ]
     },
     "execution_count": 20,
     "metadata": {},
     "output_type": "execute_result"
    }
   ],
   "source": [
    "car3.color"
   ]
  },
  {
   "cell_type": "code",
   "execution_count": 21,
   "id": "b8af50fe",
   "metadata": {},
   "outputs": [
    {
     "data": {
      "text/plain": [
       "'This is a audi Black Model s'"
      ]
     },
     "execution_count": 21,
     "metadata": {},
     "output_type": "execute_result"
    }
   ],
   "source": [
    "car2.get_description()"
   ]
  },
  {
   "cell_type": "code",
   "execution_count": 22,
   "id": "60346de4",
   "metadata": {},
   "outputs": [
    {
     "data": {
      "text/plain": [
       "'This is a honda blue Camry'"
      ]
     },
     "execution_count": 22,
     "metadata": {},
     "output_type": "execute_result"
    }
   ],
   "source": [
    "car1.get_description()"
   ]
  },
  {
   "cell_type": "code",
   "execution_count": 24,
   "id": "3ed9ac83",
   "metadata": {},
   "outputs": [
    {
     "data": {
      "text/plain": [
       "'This is a Tesla White Model 2020'"
      ]
     },
     "execution_count": 24,
     "metadata": {},
     "output_type": "execute_result"
    }
   ],
   "source": [
    "car3.get_description()"
   ]
  },
  {
   "cell_type": "code",
   "execution_count": 26,
   "id": "92a710c4",
   "metadata": {},
   "outputs": [
    {
     "name": "stdout",
     "output_type": "stream",
     "text": [
      "This car is now green\n"
     ]
    }
   ],
   "source": [
    "car1.paint('green')"
   ]
  },
  {
   "cell_type": "code",
   "execution_count": 27,
   "id": "f98b59ea",
   "metadata": {},
   "outputs": [
    {
     "data": {
      "text/plain": [
       "'This is a honda green Camry'"
      ]
     },
     "execution_count": 27,
     "metadata": {},
     "output_type": "execute_result"
    }
   ],
   "source": [
    "car1.get_description()"
   ]
  },
  {
   "cell_type": "code",
   "execution_count": 64,
   "id": "fb995084",
   "metadata": {},
   "outputs": [],
   "source": [
    "##### Inheritance  and Ploymorphism\n",
    "\n",
    "## Parents\n",
    "class Vehicle:\n",
    "    def __init__(self,brand,color):\n",
    "        self.brand = brand\n",
    "        self.color = color\n",
    "    \n",
    "    def drive(self):\n",
    "        print(f\"The {self.color} {self.brand}\")\n",
    "        \n",
    "class Car(Vehicle):\n",
    "    def __init__(self,brand,color,model):\n",
    "        self.model = model\n",
    "        super().__init__(brand,color)\n",
    "    \n",
    "    def drive(self):\n",
    "        print(f\"The {self.color} {self.brand} {self.model}\")\n",
    "        \n",
    "class Motorcycle(Vehicle):\n",
    "    def __init__(self,brand,color,model,engine):\n",
    "        self.model = model\n",
    "        self.engine = engine\n",
    "        super().__init__(brand,color)\n",
    "        \n",
    "    def drive(self):\n",
    "        print(f\"The {self.color} {self.brand} {self.model} {self.engine}\")\n",
    "    "
   ]
  },
  {
   "cell_type": "code",
   "execution_count": 63,
   "id": "4ae72284",
   "metadata": {},
   "outputs": [
    {
     "name": "stdout",
     "output_type": "stream",
     "text": [
      "The black Honda splender 125cc\n"
     ]
    }
   ],
   "source": [
    "car1 = Car('honda','Camry','blue')\n",
    "bike1 = Motorcycle('Honda','black','splender','125cc')\n",
    "\n",
    "bike1.drive()"
   ]
  },
  {
   "cell_type": "code",
   "execution_count": 31,
   "id": "3edc5f4f",
   "metadata": {},
   "outputs": [
    {
     "data": {
      "text/plain": [
       "'honda'"
      ]
     },
     "execution_count": 31,
     "metadata": {},
     "output_type": "execute_result"
    }
   ],
   "source": [
    "car1.brand"
   ]
  },
  {
   "cell_type": "code",
   "execution_count": 32,
   "id": "1844649b",
   "metadata": {},
   "outputs": [
    {
     "data": {
      "text/plain": [
       "'Camry'"
      ]
     },
     "execution_count": 32,
     "metadata": {},
     "output_type": "execute_result"
    }
   ],
   "source": [
    "car1.color"
   ]
  },
  {
   "cell_type": "code",
   "execution_count": 33,
   "id": "d4c52d68",
   "metadata": {},
   "outputs": [
    {
     "name": "stdout",
     "output_type": "stream",
     "text": [
      "The Camry honda\n"
     ]
    }
   ],
   "source": [
    "car1.drive()"
   ]
  },
  {
   "cell_type": "code",
   "execution_count": 34,
   "id": "0ae97ecb",
   "metadata": {},
   "outputs": [
    {
     "name": "stdout",
     "output_type": "stream",
     "text": [
      "The Camry honda blue\n"
     ]
    }
   ],
   "source": [
    "car1.car_drive()"
   ]
  },
  {
   "cell_type": "code",
   "execution_count": 36,
   "id": "f9e6f59d",
   "metadata": {},
   "outputs": [],
   "source": [
    "bus = Vehicle('Ashoka','Yellow')"
   ]
  },
  {
   "cell_type": "code",
   "execution_count": 37,
   "id": "35e40641",
   "metadata": {},
   "outputs": [
    {
     "data": {
      "text/plain": [
       "'Yellow'"
      ]
     },
     "execution_count": 37,
     "metadata": {},
     "output_type": "execute_result"
    }
   ],
   "source": [
    "bus.color"
   ]
  },
  {
   "cell_type": "code",
   "execution_count": 38,
   "id": "38a60783",
   "metadata": {},
   "outputs": [
    {
     "data": {
      "text/plain": [
       "'Ashoka'"
      ]
     },
     "execution_count": 38,
     "metadata": {},
     "output_type": "execute_result"
    }
   ],
   "source": [
    "bus.brand"
   ]
  },
  {
   "cell_type": "code",
   "execution_count": 39,
   "id": "2811fed1",
   "metadata": {},
   "outputs": [
    {
     "ename": "AttributeError",
     "evalue": "'Vehicle' object has no attribute 'model'",
     "output_type": "error",
     "traceback": [
      "\u001b[1;31m---------------------------------------------------------------------------\u001b[0m",
      "\u001b[1;31mAttributeError\u001b[0m                            Traceback (most recent call last)",
      "Input \u001b[1;32mIn [39]\u001b[0m, in \u001b[0;36m<cell line: 1>\u001b[1;34m()\u001b[0m\n\u001b[1;32m----> 1\u001b[0m \u001b[43mbus\u001b[49m\u001b[38;5;241;43m.\u001b[39;49m\u001b[43mmodel\u001b[49m\n",
      "\u001b[1;31mAttributeError\u001b[0m: 'Vehicle' object has no attribute 'model'"
     ]
    }
   ],
   "source": [
    "bus.model"
   ]
  },
  {
   "cell_type": "code",
   "execution_count": 40,
   "id": "04df9f41",
   "metadata": {},
   "outputs": [
    {
     "ename": "AttributeError",
     "evalue": "'Vehicle' object has no attribute 'car_drive'",
     "output_type": "error",
     "traceback": [
      "\u001b[1;31m---------------------------------------------------------------------------\u001b[0m",
      "\u001b[1;31mAttributeError\u001b[0m                            Traceback (most recent call last)",
      "Input \u001b[1;32mIn [40]\u001b[0m, in \u001b[0;36m<cell line: 1>\u001b[1;34m()\u001b[0m\n\u001b[1;32m----> 1\u001b[0m \u001b[43mbus\u001b[49m\u001b[38;5;241;43m.\u001b[39;49m\u001b[43mcar_drive\u001b[49m()\n",
      "\u001b[1;31mAttributeError\u001b[0m: 'Vehicle' object has no attribute 'car_drive'"
     ]
    }
   ],
   "source": [
    "bus.car_drive()"
   ]
  },
  {
   "cell_type": "code",
   "execution_count": 41,
   "id": "f4e6699b",
   "metadata": {},
   "outputs": [
    {
     "name": "stdout",
     "output_type": "stream",
     "text": [
      "The Yellow Ashoka\n"
     ]
    }
   ],
   "source": [
    "bus.drive()"
   ]
  },
  {
   "cell_type": "code",
   "execution_count": 112,
   "id": "8d50d506",
   "metadata": {},
   "outputs": [],
   "source": [
    "### Encapsulation\n",
    "\n",
    "class Parent:\n",
    "    def __init__(self):\n",
    "        self.__private_var = \"Private Variable\"\n",
    "        self._protected_var = \"Protected Variable\"\n",
    "        \n",
    "    def __Private_method(self):\n",
    "        print(self.__private_var)\n",
    "    \n",
    "    def _Protected_method(self):\n",
    "        print(self._protected_var)\n",
    "        \n",
    "class Child(Parent):\n",
    "    def access_Private_member(self):\n",
    "        print(self._Parent__private_var)\n",
    "        self._Parent__Private_method()\n",
    "        \n",
    "    def access_Protactate_member(self):\n",
    "        print(self._protected_var)\n",
    "        self._Protected_method()\n",
    "        \n",
    "    "
   ]
  },
  {
   "cell_type": "code",
   "execution_count": null,
   "id": "efb08b6f",
   "metadata": {},
   "outputs": [],
   "source": []
  },
  {
   "cell_type": "code",
   "execution_count": 113,
   "id": "d350b05f",
   "metadata": {},
   "outputs": [
    {
     "ename": "AttributeError",
     "evalue": "'Parent' object has no attribute 'Private_method'",
     "output_type": "error",
     "traceback": [
      "\u001b[1;31m---------------------------------------------------------------------------\u001b[0m",
      "\u001b[1;31mAttributeError\u001b[0m                            Traceback (most recent call last)",
      "Input \u001b[1;32mIn [113]\u001b[0m, in \u001b[0;36m<cell line: 2>\u001b[1;34m()\u001b[0m\n\u001b[0;32m      1\u001b[0m parent1 \u001b[38;5;241m=\u001b[39m Parent()\n\u001b[1;32m----> 2\u001b[0m \u001b[43mparent1\u001b[49m\u001b[38;5;241;43m.\u001b[39;49m\u001b[43mPrivate_method\u001b[49m()\n",
      "\u001b[1;31mAttributeError\u001b[0m: 'Parent' object has no attribute 'Private_method'"
     ]
    }
   ],
   "source": [
    "parent1 = Parent()\n",
    "parent1.Private_method()"
   ]
  },
  {
   "cell_type": "code",
   "execution_count": 114,
   "id": "fa2de19c",
   "metadata": {},
   "outputs": [],
   "source": [
    "child1 =Child()"
   ]
  },
  {
   "cell_type": "code",
   "execution_count": 115,
   "id": "709fa1cb",
   "metadata": {},
   "outputs": [
    {
     "name": "stdout",
     "output_type": "stream",
     "text": [
      "Private Variable\n",
      "Private Variable\n"
     ]
    }
   ],
   "source": [
    "child1.access_Private_member()"
   ]
  },
  {
   "cell_type": "markdown",
   "id": "250b57d8",
   "metadata": {},
   "source": [
    "Encapsulation is a way of hiding the implementation details of a class from outside access and only exposing a public interface that can be used to interact with the class."
   ]
  },
  {
   "cell_type": "code",
   "execution_count": 116,
   "id": "7c175a24",
   "metadata": {},
   "outputs": [
    {
     "ename": "SyntaxError",
     "evalue": "invalid syntax (456843257.py, line 15)",
     "output_type": "error",
     "traceback": [
      "\u001b[1;36m  Input \u001b[1;32mIn [116]\u001b[1;36m\u001b[0m\n\u001b[1;33m    labrador.()  # Output: Barking...\u001b[0m\n\u001b[1;37m             ^\u001b[0m\n\u001b[1;31mSyntaxError\u001b[0m\u001b[1;31m:\u001b[0m invalid syntax\n"
     ]
    }
   ],
   "source": [
    "class Animal:\n",
    "    def eat(self):\n",
    "        print(\"Eating...\")\n",
    "\n",
    "class Dog(Animal):\n",
    "    def eat(self):\n",
    "        print(\"Barking...\")\n",
    "\n",
    "class Labrador(Dog):\n",
    "    def eat(self):\n",
    "        print(\"Swimming...\")\n",
    "\n",
    "labrador = Labrador()\n",
    "labrador.eat()  # Output: Eating...\n",
    "labrador.()  # Output: Barking...\n",
    "labrador.swim()  # Output: Swimming...\n"
   ]
  },
  {
   "cell_type": "code",
   "execution_count": 117,
   "id": "53c515e2",
   "metadata": {},
   "outputs": [
    {
     "name": "stdout",
     "output_type": "stream",
     "text": [
      "25\n",
      "amit\n",
      "google\n"
     ]
    }
   ],
   "source": [
    "class Parent:\n",
    "    def __init__(self):\n",
    "        self.__age = 25  ## private\n",
    "        self._name = 'amit'  ## protected\n",
    "        self.emp = 'google'  ## public\n",
    "        \n",
    "    \n",
    "class Child(Parent):\n",
    "    \n",
    "    def access_private_member(self):\n",
    "        print(self._Parent__age)\n",
    "        print(self._name)  \n",
    "        print(self.emp)\n",
    "\n",
    "\n",
    "           \n",
    "        \n",
    "child = Child()\n",
    "child.access_private_member() "
   ]
  },
  {
   "cell_type": "code",
   "execution_count": 121,
   "id": "20029fe0",
   "metadata": {},
   "outputs": [
    {
     "name": "stdout",
     "output_type": "stream",
     "text": [
      "Child class: 20\n",
      "Child class: 20\n"
     ]
    }
   ],
   "source": [
    "class Parent:\n",
    "    def __init__(self):\n",
    "        self._protected_var = 10\n",
    "        self.__private = 20\n",
    "        self.name = 'amit'\n",
    "\n",
    "    def display(self):\n",
    "        print(\"parent class:\", self.__private)\n",
    "        print(\"Parent class:\", self._protected_var)\n",
    "\n",
    "\n",
    "class Child(Parent):\n",
    "    def __init__(self):\n",
    "        super().__init__()\n",
    "        self._protected_var = 20\n",
    "\n",
    "    def displ(self):\n",
    "        print(\"Child class:\", self._Parent__private)\n",
    "        print(\"Child class:\", self._protected_var)\n",
    "\n",
    "\n",
    "obj = Child()\n",
    "obj.displ()"
   ]
  },
  {
   "cell_type": "code",
   "execution_count": 122,
   "id": "17d0c845",
   "metadata": {},
   "outputs": [
    {
     "name": "stdout",
     "output_type": "stream",
     "text": [
      "Amit\n",
      "25\n",
      "varanasi\n"
     ]
    }
   ],
   "source": [
    "class Myclass:\n",
    "    def __init__(self):\n",
    "        self.__age = 25\n",
    "        self.__name = 'Amit'\n",
    "        self._sex = 'M'\n",
    "        self.location = 'varanasi'\n",
    "        \n",
    "    def __get_display_age(self):\n",
    "        return self.__age\n",
    "    def get_display_name(self):\n",
    "        return self.__name\n",
    "    def _get_display_location(self):\n",
    "        return self.location\n",
    "    \n",
    "class Child(Myclass):\n",
    "    \n",
    "    def get_display_name(self):\n",
    "        return self._Myclass__name\n",
    "    \n",
    "    def display(self):\n",
    "#         print(self._Myclass__name)\n",
    "#         print(self._Myclass__name)\n",
    "#         print(self._sex)\n",
    "#         print(self.location)\n",
    "        print(self.get_display_name())\n",
    "        print(self._Myclass__get_display_age())\n",
    "        print(self._get_display_location())\n",
    "        \n",
    "obj1 = Child()\n",
    "obj1.display()"
   ]
  },
  {
   "cell_type": "code",
   "execution_count": null,
   "id": "dd10fd0e",
   "metadata": {},
   "outputs": [],
   "source": []
  }
 ],
 "metadata": {
  "kernelspec": {
   "display_name": "Python 3 (ipykernel)",
   "language": "python",
   "name": "python3"
  },
  "language_info": {
   "codemirror_mode": {
    "name": "ipython",
    "version": 3
   },
   "file_extension": ".py",
   "mimetype": "text/x-python",
   "name": "python",
   "nbconvert_exporter": "python",
   "pygments_lexer": "ipython3",
   "version": "3.9.12"
  }
 },
 "nbformat": 4,
 "nbformat_minor": 5
}
